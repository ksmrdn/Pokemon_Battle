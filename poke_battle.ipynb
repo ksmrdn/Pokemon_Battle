{
 "cells": [
  {
   "cell_type": "markdown",
   "metadata": {},
   "source": [
    "# POKEMON BATTLE WINNER\n",
    "In this project, I will make prediction of Pokemon winning chance."
   ]
  },
  {
   "cell_type": "markdown",
   "metadata": {},
   "source": [
    "## DATA COLLECTING\n",
    "- pokemon.csv is datasets of all pokemon characters\n",
    "- combats.csv is datasets of history battle\n",
    "- tests.csv is datasets for test the model"
   ]
  },
  {
   "cell_type": "code",
   "execution_count": 2,
   "metadata": {},
   "outputs": [],
   "source": [
    "import pandas as pd\n",
    "import numpy as np\n",
    "import matplotlib.pyplot as plt\n",
    "import seaborn as sb \n",
    "import pandas_profiling as pdp"
   ]
  },
  {
   "cell_type": "code",
   "execution_count": 20,
   "metadata": {},
   "outputs": [],
   "source": [
    "df_pokemon = pd.read_csv(\"datasets/pokemon.csv\")\n",
    "df_test = pd.read_csv(\"datasets/tests.csv\")\n",
    "df_battle = pd.read_csv(\"datasets/combats.csv\")"
   ]
  },
  {
   "cell_type": "code",
   "execution_count": 21,
   "metadata": {},
   "outputs": [
    {
     "output_type": "execute_result",
     "data": {
      "text/plain": "   #           Name Type 1  Type 2  HP  Attack  Defense  Sp. Atk  Sp. Def  \\\n0  1      Bulbasaur  Grass  Poison  45      49       49       65       65   \n1  2        Ivysaur  Grass  Poison  60      62       63       80       80   \n2  3       Venusaur  Grass  Poison  80      82       83      100      100   \n3  4  Mega Venusaur  Grass  Poison  80     100      123      122      120   \n4  5     Charmander   Fire     NaN  39      52       43       60       50   \n\n   Speed  Generation  Legendary  \n0     45           1      False  \n1     60           1      False  \n2     80           1      False  \n3     80           1      False  \n4     65           1      False  ",
      "text/html": "<div>\n<style scoped>\n    .dataframe tbody tr th:only-of-type {\n        vertical-align: middle;\n    }\n\n    .dataframe tbody tr th {\n        vertical-align: top;\n    }\n\n    .dataframe thead th {\n        text-align: right;\n    }\n</style>\n<table border=\"1\" class=\"dataframe\">\n  <thead>\n    <tr style=\"text-align: right;\">\n      <th></th>\n      <th>#</th>\n      <th>Name</th>\n      <th>Type 1</th>\n      <th>Type 2</th>\n      <th>HP</th>\n      <th>Attack</th>\n      <th>Defense</th>\n      <th>Sp. Atk</th>\n      <th>Sp. Def</th>\n      <th>Speed</th>\n      <th>Generation</th>\n      <th>Legendary</th>\n    </tr>\n  </thead>\n  <tbody>\n    <tr>\n      <th>0</th>\n      <td>1</td>\n      <td>Bulbasaur</td>\n      <td>Grass</td>\n      <td>Poison</td>\n      <td>45</td>\n      <td>49</td>\n      <td>49</td>\n      <td>65</td>\n      <td>65</td>\n      <td>45</td>\n      <td>1</td>\n      <td>False</td>\n    </tr>\n    <tr>\n      <th>1</th>\n      <td>2</td>\n      <td>Ivysaur</td>\n      <td>Grass</td>\n      <td>Poison</td>\n      <td>60</td>\n      <td>62</td>\n      <td>63</td>\n      <td>80</td>\n      <td>80</td>\n      <td>60</td>\n      <td>1</td>\n      <td>False</td>\n    </tr>\n    <tr>\n      <th>2</th>\n      <td>3</td>\n      <td>Venusaur</td>\n      <td>Grass</td>\n      <td>Poison</td>\n      <td>80</td>\n      <td>82</td>\n      <td>83</td>\n      <td>100</td>\n      <td>100</td>\n      <td>80</td>\n      <td>1</td>\n      <td>False</td>\n    </tr>\n    <tr>\n      <th>3</th>\n      <td>4</td>\n      <td>Mega Venusaur</td>\n      <td>Grass</td>\n      <td>Poison</td>\n      <td>80</td>\n      <td>100</td>\n      <td>123</td>\n      <td>122</td>\n      <td>120</td>\n      <td>80</td>\n      <td>1</td>\n      <td>False</td>\n    </tr>\n    <tr>\n      <th>4</th>\n      <td>5</td>\n      <td>Charmander</td>\n      <td>Fire</td>\n      <td>NaN</td>\n      <td>39</td>\n      <td>52</td>\n      <td>43</td>\n      <td>60</td>\n      <td>50</td>\n      <td>65</td>\n      <td>1</td>\n      <td>False</td>\n    </tr>\n  </tbody>\n</table>\n</div>"
     },
     "metadata": {},
     "execution_count": 21
    }
   ],
   "source": [
    "df_pokemon.head()"
   ]
  },
  {
   "cell_type": "code",
   "execution_count": 22,
   "metadata": {},
   "outputs": [
    {
     "output_type": "execute_result",
     "data": {
      "text/plain": "   First_pokemon  Second_pokemon\n0            129             117\n1            660             211\n2            706             115\n3            195             618\n4             27             656",
      "text/html": "<div>\n<style scoped>\n    .dataframe tbody tr th:only-of-type {\n        vertical-align: middle;\n    }\n\n    .dataframe tbody tr th {\n        vertical-align: top;\n    }\n\n    .dataframe thead th {\n        text-align: right;\n    }\n</style>\n<table border=\"1\" class=\"dataframe\">\n  <thead>\n    <tr style=\"text-align: right;\">\n      <th></th>\n      <th>First_pokemon</th>\n      <th>Second_pokemon</th>\n    </tr>\n  </thead>\n  <tbody>\n    <tr>\n      <th>0</th>\n      <td>129</td>\n      <td>117</td>\n    </tr>\n    <tr>\n      <th>1</th>\n      <td>660</td>\n      <td>211</td>\n    </tr>\n    <tr>\n      <th>2</th>\n      <td>706</td>\n      <td>115</td>\n    </tr>\n    <tr>\n      <th>3</th>\n      <td>195</td>\n      <td>618</td>\n    </tr>\n    <tr>\n      <th>4</th>\n      <td>27</td>\n      <td>656</td>\n    </tr>\n  </tbody>\n</table>\n</div>"
     },
     "metadata": {},
     "execution_count": 22
    }
   ],
   "source": [
    "df_test.head()"
   ]
  },
  {
   "cell_type": "code",
   "execution_count": 5,
   "metadata": {},
   "outputs": [
    {
     "output_type": "execute_result",
     "data": {
      "text/plain": "   First_pokemon  Second_pokemon  Winner\n0            266             298     298\n1            702             701     701\n2            191             668     668\n3            237             683     683\n4            151             231     151",
      "text/html": "<div>\n<style scoped>\n    .dataframe tbody tr th:only-of-type {\n        vertical-align: middle;\n    }\n\n    .dataframe tbody tr th {\n        vertical-align: top;\n    }\n\n    .dataframe thead th {\n        text-align: right;\n    }\n</style>\n<table border=\"1\" class=\"dataframe\">\n  <thead>\n    <tr style=\"text-align: right;\">\n      <th></th>\n      <th>First_pokemon</th>\n      <th>Second_pokemon</th>\n      <th>Winner</th>\n    </tr>\n  </thead>\n  <tbody>\n    <tr>\n      <th>0</th>\n      <td>266</td>\n      <td>298</td>\n      <td>298</td>\n    </tr>\n    <tr>\n      <th>1</th>\n      <td>702</td>\n      <td>701</td>\n      <td>701</td>\n    </tr>\n    <tr>\n      <th>2</th>\n      <td>191</td>\n      <td>668</td>\n      <td>668</td>\n    </tr>\n    <tr>\n      <th>3</th>\n      <td>237</td>\n      <td>683</td>\n      <td>683</td>\n    </tr>\n    <tr>\n      <th>4</th>\n      <td>151</td>\n      <td>231</td>\n      <td>151</td>\n    </tr>\n  </tbody>\n</table>\n</div>"
     },
     "metadata": {},
     "execution_count": 5
    }
   ],
   "source": [
    "df_battle.head()"
   ]
  },
  {
   "cell_type": "code",
   "execution_count": 6,
   "metadata": {},
   "outputs": [
    {
     "output_type": "execute_result",
     "data": {
      "text/plain": "              #          HP      Attack     Defense     Sp. Atk     Sp. Def  \\\ncount  800.0000  800.000000  800.000000  800.000000  800.000000  800.000000   \nmean   400.5000   69.258750   79.001250   73.842500   72.820000   71.902500   \nstd    231.0844   25.534669   32.457366   31.183501   32.722294   27.828916   \nmin      1.0000    1.000000    5.000000    5.000000   10.000000   20.000000   \n25%    200.7500   50.000000   55.000000   50.000000   49.750000   50.000000   \n50%    400.5000   65.000000   75.000000   70.000000   65.000000   70.000000   \n75%    600.2500   80.000000  100.000000   90.000000   95.000000   90.000000   \nmax    800.0000  255.000000  190.000000  230.000000  194.000000  230.000000   \n\n            Speed  Generation  \ncount  800.000000   800.00000  \nmean    68.277500     3.32375  \nstd     29.060474     1.66129  \nmin      5.000000     1.00000  \n25%     45.000000     2.00000  \n50%     65.000000     3.00000  \n75%     90.000000     5.00000  \nmax    180.000000     6.00000  ",
      "text/html": "<div>\n<style scoped>\n    .dataframe tbody tr th:only-of-type {\n        vertical-align: middle;\n    }\n\n    .dataframe tbody tr th {\n        vertical-align: top;\n    }\n\n    .dataframe thead th {\n        text-align: right;\n    }\n</style>\n<table border=\"1\" class=\"dataframe\">\n  <thead>\n    <tr style=\"text-align: right;\">\n      <th></th>\n      <th>#</th>\n      <th>HP</th>\n      <th>Attack</th>\n      <th>Defense</th>\n      <th>Sp. Atk</th>\n      <th>Sp. Def</th>\n      <th>Speed</th>\n      <th>Generation</th>\n    </tr>\n  </thead>\n  <tbody>\n    <tr>\n      <th>count</th>\n      <td>800.0000</td>\n      <td>800.000000</td>\n      <td>800.000000</td>\n      <td>800.000000</td>\n      <td>800.000000</td>\n      <td>800.000000</td>\n      <td>800.000000</td>\n      <td>800.00000</td>\n    </tr>\n    <tr>\n      <th>mean</th>\n      <td>400.5000</td>\n      <td>69.258750</td>\n      <td>79.001250</td>\n      <td>73.842500</td>\n      <td>72.820000</td>\n      <td>71.902500</td>\n      <td>68.277500</td>\n      <td>3.32375</td>\n    </tr>\n    <tr>\n      <th>std</th>\n      <td>231.0844</td>\n      <td>25.534669</td>\n      <td>32.457366</td>\n      <td>31.183501</td>\n      <td>32.722294</td>\n      <td>27.828916</td>\n      <td>29.060474</td>\n      <td>1.66129</td>\n    </tr>\n    <tr>\n      <th>min</th>\n      <td>1.0000</td>\n      <td>1.000000</td>\n      <td>5.000000</td>\n      <td>5.000000</td>\n      <td>10.000000</td>\n      <td>20.000000</td>\n      <td>5.000000</td>\n      <td>1.00000</td>\n    </tr>\n    <tr>\n      <th>25%</th>\n      <td>200.7500</td>\n      <td>50.000000</td>\n      <td>55.000000</td>\n      <td>50.000000</td>\n      <td>49.750000</td>\n      <td>50.000000</td>\n      <td>45.000000</td>\n      <td>2.00000</td>\n    </tr>\n    <tr>\n      <th>50%</th>\n      <td>400.5000</td>\n      <td>65.000000</td>\n      <td>75.000000</td>\n      <td>70.000000</td>\n      <td>65.000000</td>\n      <td>70.000000</td>\n      <td>65.000000</td>\n      <td>3.00000</td>\n    </tr>\n    <tr>\n      <th>75%</th>\n      <td>600.2500</td>\n      <td>80.000000</td>\n      <td>100.000000</td>\n      <td>90.000000</td>\n      <td>95.000000</td>\n      <td>90.000000</td>\n      <td>90.000000</td>\n      <td>5.00000</td>\n    </tr>\n    <tr>\n      <th>max</th>\n      <td>800.0000</td>\n      <td>255.000000</td>\n      <td>190.000000</td>\n      <td>230.000000</td>\n      <td>194.000000</td>\n      <td>230.000000</td>\n      <td>180.000000</td>\n      <td>6.00000</td>\n    </tr>\n  </tbody>\n</table>\n</div>"
     },
     "metadata": {},
     "execution_count": 6
    }
   ],
   "source": [
    "df_pokemon.describe()"
   ]
  },
  {
   "cell_type": "code",
   "execution_count": 7,
   "metadata": {},
   "outputs": [
    {
     "output_type": "execute_result",
     "data": {
      "text/plain": "#               0\nName            1\nType 1          0\nType 2        386\nHP              0\nAttack          0\nDefense         0\nSp. Atk         0\nSp. Def         0\nSpeed           0\nGeneration      0\nLegendary       0\ndtype: int64"
     },
     "metadata": {},
     "execution_count": 7
    }
   ],
   "source": [
    "df_pokemon.isnull().sum()"
   ]
  },
  {
   "cell_type": "code",
   "execution_count": 8,
   "metadata": {},
   "outputs": [
    {
     "output_type": "execute_result",
     "data": {
      "text/plain": "[array([62], dtype=int64)]"
     },
     "metadata": {},
     "execution_count": 8
    }
   ],
   "source": [
    "#Check where is Pokemon that has NaN value Name\n",
    "list(np.where(df_pokemon['Name'].isna()))"
   ]
  },
  {
   "cell_type": "code",
   "execution_count": 9,
   "metadata": {},
   "outputs": [
    {
     "output_type": "execute_result",
     "data": {
      "text/plain": "     #    Name    Type 1 Type 2  HP  Attack  Defense  Sp. Atk  Sp. Def  Speed  \\\n61  62  Mankey  Fighting    NaN  40      80       35       35       45     70   \n\n    Generation  Legendary  \n61           1      False  ",
      "text/html": "<div>\n<style scoped>\n    .dataframe tbody tr th:only-of-type {\n        vertical-align: middle;\n    }\n\n    .dataframe tbody tr th {\n        vertical-align: top;\n    }\n\n    .dataframe thead th {\n        text-align: right;\n    }\n</style>\n<table border=\"1\" class=\"dataframe\">\n  <thead>\n    <tr style=\"text-align: right;\">\n      <th></th>\n      <th>#</th>\n      <th>Name</th>\n      <th>Type 1</th>\n      <th>Type 2</th>\n      <th>HP</th>\n      <th>Attack</th>\n      <th>Defense</th>\n      <th>Sp. Atk</th>\n      <th>Sp. Def</th>\n      <th>Speed</th>\n      <th>Generation</th>\n      <th>Legendary</th>\n    </tr>\n  </thead>\n  <tbody>\n    <tr>\n      <th>61</th>\n      <td>62</td>\n      <td>Mankey</td>\n      <td>Fighting</td>\n      <td>NaN</td>\n      <td>40</td>\n      <td>80</td>\n      <td>35</td>\n      <td>35</td>\n      <td>45</td>\n      <td>70</td>\n      <td>1</td>\n      <td>False</td>\n    </tr>\n  </tbody>\n</table>\n</div>"
     },
     "metadata": {},
     "execution_count": 9
    }
   ],
   "source": [
    "df_pokemon.loc[df_pokemon.Name == 'Mankey']"
   ]
  },
  {
   "cell_type": "code",
   "execution_count": 10,
   "metadata": {},
   "outputs": [
    {
     "output_type": "execute_result",
     "data": {
      "text/plain": "#                   63\nName               NaN\nType 1        Fighting\nType 2             NaN\nHP                  65\nAttack             105\nDefense             60\nSp. Atk             60\nSp. Def             70\nSpeed               95\nGeneration           1\nLegendary        False\nName: 62, dtype: object"
     },
     "metadata": {},
     "execution_count": 10
    }
   ],
   "source": [
    "df_pokemon.iloc[62]"
   ]
  },
  {
   "cell_type": "markdown",
   "metadata": {},
   "source": [
    "Look at this website https://veekun.com/dex/types/fighting the characteristic is suit to Primweape and before #63 is Mankey #62 that initial form of primeape. So, fill #63 with Primeape.<br>\n",
    "<img src=\"images/primeape.png\">"
   ]
  },
  {
   "cell_type": "code",
   "execution_count": 11,
   "metadata": {},
   "outputs": [],
   "source": [
    "#Change index dataframe with id number\n",
    "df_pokemon = df_pokemon.set_index('#')"
   ]
  },
  {
   "cell_type": "code",
   "execution_count": 12,
   "metadata": {},
   "outputs": [],
   "source": [
    "df_pokemon['Name'].fillna(\"Primeape\", inplace = True)"
   ]
  },
  {
   "cell_type": "code",
   "execution_count": 13,
   "metadata": {},
   "outputs": [
    {
     "output_type": "execute_result",
     "data": {
      "text/plain": "Name          Primeape\nType 1        Fighting\nType 2             NaN\nHP                  65\nAttack             105\nDefense             60\nSp. Atk             60\nSp. Def             70\nSpeed               95\nGeneration           1\nLegendary        False\nName: 63, dtype: object"
     },
     "metadata": {},
     "execution_count": 13
    }
   ],
   "source": [
    "#Do not reset the index, cause it will break arrangement matching in another datasets\n",
    "df_pokemon.iloc[62]"
   ]
  },
  {
   "cell_type": "code",
   "execution_count": 14,
   "metadata": {},
   "outputs": [
    {
     "output_type": "execute_result",
     "data": {
      "text/plain": "Name            0\nType 1          0\nType 2        386\nHP              0\nAttack          0\nDefense         0\nSp. Atk         0\nSp. Def         0\nSpeed           0\nGeneration      0\nLegendary       0\ndtype: int64"
     },
     "metadata": {},
     "execution_count": 14
    }
   ],
   "source": [
    "#Like we see before, Type 2 have so many missing value. Let's fix them.\n",
    "df_pokemon.isnull().sum()"
   ]
  },
  {
   "cell_type": "code",
   "execution_count": 15,
   "metadata": {},
   "outputs": [],
   "source": [
    "# Pokemon Characteristic that only have 1 type, will contain NaN value on their Type 2, so just fill them with Type 1, fillna Type 2 method just like below\n",
    "df = pd.DataFrame(\n",
    "    np.array([[1, 2, 3], [4, 5, np.nan], [7, 8, 9], [3, 2, np.nan], [5, 6, np.nan]]), \n",
    "    columns=['a', 'b', 'c']\n",
    ")\n",
    "df['c'] = df.apply(\n",
    "    lambda row: row['b'] if np.isnan(row['c']) else row['c'],\n",
    "    axis=1\n",
    ")"
   ]
  },
  {
   "cell_type": "code",
   "execution_count": 16,
   "metadata": {},
   "outputs": [
    {
     "output_type": "execute_result",
     "data": {
      "text/plain": "     a    b    c\n0  1.0  2.0  3.0\n1  4.0  5.0  5.0\n2  7.0  8.0  9.0\n3  3.0  2.0  2.0\n4  5.0  6.0  6.0",
      "text/html": "<div>\n<style scoped>\n    .dataframe tbody tr th:only-of-type {\n        vertical-align: middle;\n    }\n\n    .dataframe tbody tr th {\n        vertical-align: top;\n    }\n\n    .dataframe thead th {\n        text-align: right;\n    }\n</style>\n<table border=\"1\" class=\"dataframe\">\n  <thead>\n    <tr style=\"text-align: right;\">\n      <th></th>\n      <th>a</th>\n      <th>b</th>\n      <th>c</th>\n    </tr>\n  </thead>\n  <tbody>\n    <tr>\n      <th>0</th>\n      <td>1.0</td>\n      <td>2.0</td>\n      <td>3.0</td>\n    </tr>\n    <tr>\n      <th>1</th>\n      <td>4.0</td>\n      <td>5.0</td>\n      <td>5.0</td>\n    </tr>\n    <tr>\n      <th>2</th>\n      <td>7.0</td>\n      <td>8.0</td>\n      <td>9.0</td>\n    </tr>\n    <tr>\n      <th>3</th>\n      <td>3.0</td>\n      <td>2.0</td>\n      <td>2.0</td>\n    </tr>\n    <tr>\n      <th>4</th>\n      <td>5.0</td>\n      <td>6.0</td>\n      <td>6.0</td>\n    </tr>\n  </tbody>\n</table>\n</div>"
     },
     "metadata": {},
     "execution_count": 16
    }
   ],
   "source": [
    "df"
   ]
  },
  {
   "cell_type": "code",
   "execution_count": 17,
   "metadata": {},
   "outputs": [],
   "source": [
    "df_pokemon['Type 2'] = df_pokemon.apply(\n",
    "    lambda row: row['Type 1'] if pd.isnull(row['Type 2']) else row['Type 2'], axis=1\n",
    ")"
   ]
  },
  {
   "cell_type": "code",
   "execution_count": 18,
   "metadata": {},
   "outputs": [
    {
     "output_type": "execute_result",
     "data": {
      "text/plain": "               Name   Type 1  Type 2  HP  Attack  Defense  Sp. Atk  Sp. Def  \\\n#                                                                             \n1         Bulbasaur    Grass  Poison  45      49       49       65       65   \n2           Ivysaur    Grass  Poison  60      62       63       80       80   \n3          Venusaur    Grass  Poison  80      82       83      100      100   \n4     Mega Venusaur    Grass  Poison  80     100      123      122      120   \n5        Charmander     Fire    Fire  39      52       43       60       50   \n..              ...      ...     ...  ..     ...      ...      ...      ...   \n796         Diancie     Rock   Fairy  50     100      150      100      150   \n797    Mega Diancie     Rock   Fairy  50     160      110      160      110   \n798  Hoopa Confined  Psychic   Ghost  80     110       60      150      130   \n799   Hoopa Unbound  Psychic    Dark  80     160       60      170      130   \n800       Volcanion     Fire   Water  80     110      120      130       90   \n\n     Speed  Generation  Legendary  \n#                                  \n1       45           1      False  \n2       60           1      False  \n3       80           1      False  \n4       80           1      False  \n5       65           1      False  \n..     ...         ...        ...  \n796     50           6       True  \n797    110           6       True  \n798     70           6       True  \n799     80           6       True  \n800     70           6       True  \n\n[800 rows x 11 columns]",
      "text/html": "<div>\n<style scoped>\n    .dataframe tbody tr th:only-of-type {\n        vertical-align: middle;\n    }\n\n    .dataframe tbody tr th {\n        vertical-align: top;\n    }\n\n    .dataframe thead th {\n        text-align: right;\n    }\n</style>\n<table border=\"1\" class=\"dataframe\">\n  <thead>\n    <tr style=\"text-align: right;\">\n      <th></th>\n      <th>Name</th>\n      <th>Type 1</th>\n      <th>Type 2</th>\n      <th>HP</th>\n      <th>Attack</th>\n      <th>Defense</th>\n      <th>Sp. Atk</th>\n      <th>Sp. Def</th>\n      <th>Speed</th>\n      <th>Generation</th>\n      <th>Legendary</th>\n    </tr>\n    <tr>\n      <th>#</th>\n      <th></th>\n      <th></th>\n      <th></th>\n      <th></th>\n      <th></th>\n      <th></th>\n      <th></th>\n      <th></th>\n      <th></th>\n      <th></th>\n      <th></th>\n    </tr>\n  </thead>\n  <tbody>\n    <tr>\n      <th>1</th>\n      <td>Bulbasaur</td>\n      <td>Grass</td>\n      <td>Poison</td>\n      <td>45</td>\n      <td>49</td>\n      <td>49</td>\n      <td>65</td>\n      <td>65</td>\n      <td>45</td>\n      <td>1</td>\n      <td>False</td>\n    </tr>\n    <tr>\n      <th>2</th>\n      <td>Ivysaur</td>\n      <td>Grass</td>\n      <td>Poison</td>\n      <td>60</td>\n      <td>62</td>\n      <td>63</td>\n      <td>80</td>\n      <td>80</td>\n      <td>60</td>\n      <td>1</td>\n      <td>False</td>\n    </tr>\n    <tr>\n      <th>3</th>\n      <td>Venusaur</td>\n      <td>Grass</td>\n      <td>Poison</td>\n      <td>80</td>\n      <td>82</td>\n      <td>83</td>\n      <td>100</td>\n      <td>100</td>\n      <td>80</td>\n      <td>1</td>\n      <td>False</td>\n    </tr>\n    <tr>\n      <th>4</th>\n      <td>Mega Venusaur</td>\n      <td>Grass</td>\n      <td>Poison</td>\n      <td>80</td>\n      <td>100</td>\n      <td>123</td>\n      <td>122</td>\n      <td>120</td>\n      <td>80</td>\n      <td>1</td>\n      <td>False</td>\n    </tr>\n    <tr>\n      <th>5</th>\n      <td>Charmander</td>\n      <td>Fire</td>\n      <td>Fire</td>\n      <td>39</td>\n      <td>52</td>\n      <td>43</td>\n      <td>60</td>\n      <td>50</td>\n      <td>65</td>\n      <td>1</td>\n      <td>False</td>\n    </tr>\n    <tr>\n      <th>...</th>\n      <td>...</td>\n      <td>...</td>\n      <td>...</td>\n      <td>...</td>\n      <td>...</td>\n      <td>...</td>\n      <td>...</td>\n      <td>...</td>\n      <td>...</td>\n      <td>...</td>\n      <td>...</td>\n    </tr>\n    <tr>\n      <th>796</th>\n      <td>Diancie</td>\n      <td>Rock</td>\n      <td>Fairy</td>\n      <td>50</td>\n      <td>100</td>\n      <td>150</td>\n      <td>100</td>\n      <td>150</td>\n      <td>50</td>\n      <td>6</td>\n      <td>True</td>\n    </tr>\n    <tr>\n      <th>797</th>\n      <td>Mega Diancie</td>\n      <td>Rock</td>\n      <td>Fairy</td>\n      <td>50</td>\n      <td>160</td>\n      <td>110</td>\n      <td>160</td>\n      <td>110</td>\n      <td>110</td>\n      <td>6</td>\n      <td>True</td>\n    </tr>\n    <tr>\n      <th>798</th>\n      <td>Hoopa Confined</td>\n      <td>Psychic</td>\n      <td>Ghost</td>\n      <td>80</td>\n      <td>110</td>\n      <td>60</td>\n      <td>150</td>\n      <td>130</td>\n      <td>70</td>\n      <td>6</td>\n      <td>True</td>\n    </tr>\n    <tr>\n      <th>799</th>\n      <td>Hoopa Unbound</td>\n      <td>Psychic</td>\n      <td>Dark</td>\n      <td>80</td>\n      <td>160</td>\n      <td>60</td>\n      <td>170</td>\n      <td>130</td>\n      <td>80</td>\n      <td>6</td>\n      <td>True</td>\n    </tr>\n    <tr>\n      <th>800</th>\n      <td>Volcanion</td>\n      <td>Fire</td>\n      <td>Water</td>\n      <td>80</td>\n      <td>110</td>\n      <td>120</td>\n      <td>130</td>\n      <td>90</td>\n      <td>70</td>\n      <td>6</td>\n      <td>True</td>\n    </tr>\n  </tbody>\n</table>\n<p>800 rows × 11 columns</p>\n</div>"
     },
     "metadata": {},
     "execution_count": 18
    }
   ],
   "source": [
    "df_pokemon"
   ]
  },
  {
   "cell_type": "code",
   "execution_count": 19,
   "metadata": {},
   "outputs": [
    {
     "output_type": "execute_result",
     "data": {
      "text/plain": "Name          0\nType 1        0\nType 2        0\nHP            0\nAttack        0\nDefense       0\nSp. Atk       0\nSp. Def       0\nSpeed         0\nGeneration    0\nLegendary     0\ndtype: int64"
     },
     "metadata": {},
     "execution_count": 19
    }
   ],
   "source": [
    "#Check again is there any missing value, there's no any missing value again\n",
    "df_pokemon.isnull().sum()"
   ]
  },
  {
   "cell_type": "markdown",
   "metadata": {},
   "source": [
    "## EDA"
   ]
  },
  {
   "cell_type": "markdown",
   "metadata": {},
   "source": [
    "### Now, let's convert the winner of battle to ordinal data\n"
   ]
  },
  {
   "cell_type": "code",
   "execution_count": 20,
   "metadata": {},
   "outputs": [],
   "source": [
    "df_battle['1st_Win'] = df_battle.apply(lambda col: 1 if col['Winner'] == col['First_pokemon'] else 0, axis=1)\n",
    "df_battle['2nd_Win'] = df_battle.apply(lambda col: 1 if col['Winner'] == col['Second_pokemon'] else 0, axis=1)"
   ]
  },
  {
   "cell_type": "code",
   "execution_count": 21,
   "metadata": {},
   "outputs": [
    {
     "output_type": "execute_result",
     "data": {
      "text/plain": "       First_pokemon  Second_pokemon  Winner  1st_Win  2nd_Win\n0                266             298     298        0        1\n1                702             701     701        0        1\n2                191             668     668        0        1\n3                237             683     683        0        1\n4                151             231     151        1        0\n...              ...             ...     ...      ...      ...\n49995            707             126     707        1        0\n49996            589             664     589        1        0\n49997            303             368     368        0        1\n49998            109              89     109        1        0\n49999              9              73       9        1        0\n\n[50000 rows x 5 columns]",
      "text/html": "<div>\n<style scoped>\n    .dataframe tbody tr th:only-of-type {\n        vertical-align: middle;\n    }\n\n    .dataframe tbody tr th {\n        vertical-align: top;\n    }\n\n    .dataframe thead th {\n        text-align: right;\n    }\n</style>\n<table border=\"1\" class=\"dataframe\">\n  <thead>\n    <tr style=\"text-align: right;\">\n      <th></th>\n      <th>First_pokemon</th>\n      <th>Second_pokemon</th>\n      <th>Winner</th>\n      <th>1st_Win</th>\n      <th>2nd_Win</th>\n    </tr>\n  </thead>\n  <tbody>\n    <tr>\n      <th>0</th>\n      <td>266</td>\n      <td>298</td>\n      <td>298</td>\n      <td>0</td>\n      <td>1</td>\n    </tr>\n    <tr>\n      <th>1</th>\n      <td>702</td>\n      <td>701</td>\n      <td>701</td>\n      <td>0</td>\n      <td>1</td>\n    </tr>\n    <tr>\n      <th>2</th>\n      <td>191</td>\n      <td>668</td>\n      <td>668</td>\n      <td>0</td>\n      <td>1</td>\n    </tr>\n    <tr>\n      <th>3</th>\n      <td>237</td>\n      <td>683</td>\n      <td>683</td>\n      <td>0</td>\n      <td>1</td>\n    </tr>\n    <tr>\n      <th>4</th>\n      <td>151</td>\n      <td>231</td>\n      <td>151</td>\n      <td>1</td>\n      <td>0</td>\n    </tr>\n    <tr>\n      <th>...</th>\n      <td>...</td>\n      <td>...</td>\n      <td>...</td>\n      <td>...</td>\n      <td>...</td>\n    </tr>\n    <tr>\n      <th>49995</th>\n      <td>707</td>\n      <td>126</td>\n      <td>707</td>\n      <td>1</td>\n      <td>0</td>\n    </tr>\n    <tr>\n      <th>49996</th>\n      <td>589</td>\n      <td>664</td>\n      <td>589</td>\n      <td>1</td>\n      <td>0</td>\n    </tr>\n    <tr>\n      <th>49997</th>\n      <td>303</td>\n      <td>368</td>\n      <td>368</td>\n      <td>0</td>\n      <td>1</td>\n    </tr>\n    <tr>\n      <th>49998</th>\n      <td>109</td>\n      <td>89</td>\n      <td>109</td>\n      <td>1</td>\n      <td>0</td>\n    </tr>\n    <tr>\n      <th>49999</th>\n      <td>9</td>\n      <td>73</td>\n      <td>9</td>\n      <td>1</td>\n      <td>0</td>\n    </tr>\n  </tbody>\n</table>\n<p>50000 rows × 5 columns</p>\n</div>"
     },
     "metadata": {},
     "execution_count": 21
    }
   ],
   "source": [
    "df_battle"
   ]
  },
  {
   "cell_type": "code",
   "execution_count": 22,
   "metadata": {},
   "outputs": [],
   "source": [
    "df_battle['Name_1st'] =  df_battle['First_pokemon'].apply(lambda x: df_pokemon['Name'][x])\n",
    "df_battle['Type1_1st'] =  df_battle['First_pokemon'].apply(lambda x: df_pokemon['Type 1'][x])\n",
    "df_battle['Type2_1st'] =  df_battle['First_pokemon'].apply(lambda x: df_pokemon['Type 2'][x])\n",
    "df_battle['HP_1st'] =  df_battle['First_pokemon'].apply(lambda x: df_pokemon['HP'][x])\n",
    "df_battle['Atk_1st'] =  df_battle['First_pokemon'].apply(lambda x: df_pokemon['Attack'][x])\n",
    "df_battle['Def_1st'] =  df_battle['First_pokemon'].apply(lambda x: df_pokemon['Defense'][x])\n",
    "df_battle['SpAtk_1st'] =  df_battle['First_pokemon'].apply(lambda x: df_pokemon['Sp. Atk'][x])\n",
    "df_battle['SpDef_1st'] =  df_battle['First_pokemon'].apply(lambda x: df_pokemon['Sp. Def'][x])\n",
    "df_battle['Speed_1st'] =  df_battle['First_pokemon'].apply(lambda x: df_pokemon['Speed'][x])\n",
    "\n",
    "df_battle['Name_2nd'] =  df_battle['Second_pokemon'].apply(lambda x: df_pokemon['Name'][x])\n",
    "df_battle['Type1_2nd'] =  df_battle['Second_pokemon'].apply(lambda x: df_pokemon['Type 1'][x])\n",
    "df_battle['Type2_2nd'] =  df_battle['Second_pokemon'].apply(lambda x: df_pokemon['Type 2'][x])\n",
    "df_battle['HP_2nd'] =  df_battle['Second_pokemon'].apply(lambda x: df_pokemon['HP'][x])\n",
    "df_battle['Atk_2nd'] =  df_battle['Second_pokemon'].apply(lambda x: df_pokemon['Attack'][x])\n",
    "df_battle['Def_2nd'] =  df_battle['Second_pokemon'].apply(lambda x: df_pokemon['Defense'][x])\n",
    "df_battle['SpAtk_2nd'] =  df_battle['Second_pokemon'].apply(lambda x: df_pokemon['Sp. Atk'][x])\n",
    "df_battle['SpDef_2nd'] =  df_battle['Second_pokemon'].apply(lambda x: df_pokemon['Sp. Def'][x])\n",
    "df_battle['Speed_2nd'] =  df_battle['Second_pokemon'].apply(lambda x: df_pokemon['Speed'][x])\n",
    "\n",
    "df_battle['Win'] =  df_battle['Winner'].apply(lambda x: df_pokemon['Name'][x])"
   ]
  },
  {
   "cell_type": "code",
   "execution_count": 23,
   "metadata": {},
   "outputs": [
    {
     "output_type": "execute_result",
     "data": {
      "text/plain": "       First_pokemon  Second_pokemon  Winner  1st_Win  2nd_Win  \\\n0                266             298     298        0        1   \n1                702             701     701        0        1   \n2                191             668     668        0        1   \n3                237             683     683        0        1   \n4                151             231     151        1        0   \n...              ...             ...     ...      ...      ...   \n49995            707             126     707        1        0   \n49996            589             664     589        1        0   \n49997            303             368     368        0        1   \n49998            109              89     109        1        0   \n49999              9              73       9        1        0   \n\n               Name_1st Type1_1st Type2_1st  HP_1st  Atk_1st  ...   Name_2nd  \\\n0              Larvitar      Rock    Ground      50       64  ...    Nuzleaf   \n1              Virizion     Grass  Fighting      91       90  ...  Terrakion   \n2               Togetic     Fairy    Flying      55       40  ...   Beheeyem   \n3                Slugma      Fire      Fire      40       40  ...  Druddigon   \n4               Omastar      Rock     Water      70       60  ...    Shuckle   \n...                 ...       ...       ...     ...      ...  ...        ...   \n49995          Reshiram    Dragon      Fire     100      120  ...     Horsea   \n49996           Drilbur    Ground    Ground      60       85  ...     Tynamo   \n49997          Pelipper     Water    Flying      60       50  ...   Zangoose   \n49998           Voltorb  Electric  Electric      40       30  ...  Magnemite   \n49999  Mega Charizard Y      Fire    Flying      78      104  ...     Machop   \n\n       Type1_2nd  Type2_2nd  HP_2nd Atk_2nd Def_2nd SpAtk_2nd  SpDef_2nd  \\\n0          Grass       Dark      70      70      40        60         40   \n1           Rock   Fighting      91     129      90        72         90   \n2        Psychic    Psychic      75      75      75       125         95   \n3         Dragon     Dragon      77     120      90        60         90   \n4            Bug       Rock      20      10     230        10        230   \n...          ...        ...     ...     ...     ...       ...        ...   \n49995      Water      Water      30      40      70        70         25   \n49996   Electric   Electric      35      55      40        45         40   \n49997     Normal     Normal      73     115      60        60         60   \n49998   Electric      Steel      25      35      70        95         55   \n49999   Fighting   Fighting      70      80      50        35         35   \n\n       Speed_2nd               Win  \n0             60           Nuzleaf  \n1            108         Terrakion  \n2             40          Beheeyem  \n3             48         Druddigon  \n4              5           Omastar  \n...          ...               ...  \n49995         60          Reshiram  \n49996         60           Drilbur  \n49997         90          Zangoose  \n49998         45           Voltorb  \n49999         35  Mega Charizard Y  \n\n[50000 rows x 24 columns]",
      "text/html": "<div>\n<style scoped>\n    .dataframe tbody tr th:only-of-type {\n        vertical-align: middle;\n    }\n\n    .dataframe tbody tr th {\n        vertical-align: top;\n    }\n\n    .dataframe thead th {\n        text-align: right;\n    }\n</style>\n<table border=\"1\" class=\"dataframe\">\n  <thead>\n    <tr style=\"text-align: right;\">\n      <th></th>\n      <th>First_pokemon</th>\n      <th>Second_pokemon</th>\n      <th>Winner</th>\n      <th>1st_Win</th>\n      <th>2nd_Win</th>\n      <th>Name_1st</th>\n      <th>Type1_1st</th>\n      <th>Type2_1st</th>\n      <th>HP_1st</th>\n      <th>Atk_1st</th>\n      <th>...</th>\n      <th>Name_2nd</th>\n      <th>Type1_2nd</th>\n      <th>Type2_2nd</th>\n      <th>HP_2nd</th>\n      <th>Atk_2nd</th>\n      <th>Def_2nd</th>\n      <th>SpAtk_2nd</th>\n      <th>SpDef_2nd</th>\n      <th>Speed_2nd</th>\n      <th>Win</th>\n    </tr>\n  </thead>\n  <tbody>\n    <tr>\n      <th>0</th>\n      <td>266</td>\n      <td>298</td>\n      <td>298</td>\n      <td>0</td>\n      <td>1</td>\n      <td>Larvitar</td>\n      <td>Rock</td>\n      <td>Ground</td>\n      <td>50</td>\n      <td>64</td>\n      <td>...</td>\n      <td>Nuzleaf</td>\n      <td>Grass</td>\n      <td>Dark</td>\n      <td>70</td>\n      <td>70</td>\n      <td>40</td>\n      <td>60</td>\n      <td>40</td>\n      <td>60</td>\n      <td>Nuzleaf</td>\n    </tr>\n    <tr>\n      <th>1</th>\n      <td>702</td>\n      <td>701</td>\n      <td>701</td>\n      <td>0</td>\n      <td>1</td>\n      <td>Virizion</td>\n      <td>Grass</td>\n      <td>Fighting</td>\n      <td>91</td>\n      <td>90</td>\n      <td>...</td>\n      <td>Terrakion</td>\n      <td>Rock</td>\n      <td>Fighting</td>\n      <td>91</td>\n      <td>129</td>\n      <td>90</td>\n      <td>72</td>\n      <td>90</td>\n      <td>108</td>\n      <td>Terrakion</td>\n    </tr>\n    <tr>\n      <th>2</th>\n      <td>191</td>\n      <td>668</td>\n      <td>668</td>\n      <td>0</td>\n      <td>1</td>\n      <td>Togetic</td>\n      <td>Fairy</td>\n      <td>Flying</td>\n      <td>55</td>\n      <td>40</td>\n      <td>...</td>\n      <td>Beheeyem</td>\n      <td>Psychic</td>\n      <td>Psychic</td>\n      <td>75</td>\n      <td>75</td>\n      <td>75</td>\n      <td>125</td>\n      <td>95</td>\n      <td>40</td>\n      <td>Beheeyem</td>\n    </tr>\n    <tr>\n      <th>3</th>\n      <td>237</td>\n      <td>683</td>\n      <td>683</td>\n      <td>0</td>\n      <td>1</td>\n      <td>Slugma</td>\n      <td>Fire</td>\n      <td>Fire</td>\n      <td>40</td>\n      <td>40</td>\n      <td>...</td>\n      <td>Druddigon</td>\n      <td>Dragon</td>\n      <td>Dragon</td>\n      <td>77</td>\n      <td>120</td>\n      <td>90</td>\n      <td>60</td>\n      <td>90</td>\n      <td>48</td>\n      <td>Druddigon</td>\n    </tr>\n    <tr>\n      <th>4</th>\n      <td>151</td>\n      <td>231</td>\n      <td>151</td>\n      <td>1</td>\n      <td>0</td>\n      <td>Omastar</td>\n      <td>Rock</td>\n      <td>Water</td>\n      <td>70</td>\n      <td>60</td>\n      <td>...</td>\n      <td>Shuckle</td>\n      <td>Bug</td>\n      <td>Rock</td>\n      <td>20</td>\n      <td>10</td>\n      <td>230</td>\n      <td>10</td>\n      <td>230</td>\n      <td>5</td>\n      <td>Omastar</td>\n    </tr>\n    <tr>\n      <th>...</th>\n      <td>...</td>\n      <td>...</td>\n      <td>...</td>\n      <td>...</td>\n      <td>...</td>\n      <td>...</td>\n      <td>...</td>\n      <td>...</td>\n      <td>...</td>\n      <td>...</td>\n      <td>...</td>\n      <td>...</td>\n      <td>...</td>\n      <td>...</td>\n      <td>...</td>\n      <td>...</td>\n      <td>...</td>\n      <td>...</td>\n      <td>...</td>\n      <td>...</td>\n      <td>...</td>\n    </tr>\n    <tr>\n      <th>49995</th>\n      <td>707</td>\n      <td>126</td>\n      <td>707</td>\n      <td>1</td>\n      <td>0</td>\n      <td>Reshiram</td>\n      <td>Dragon</td>\n      <td>Fire</td>\n      <td>100</td>\n      <td>120</td>\n      <td>...</td>\n      <td>Horsea</td>\n      <td>Water</td>\n      <td>Water</td>\n      <td>30</td>\n      <td>40</td>\n      <td>70</td>\n      <td>70</td>\n      <td>25</td>\n      <td>60</td>\n      <td>Reshiram</td>\n    </tr>\n    <tr>\n      <th>49996</th>\n      <td>589</td>\n      <td>664</td>\n      <td>589</td>\n      <td>1</td>\n      <td>0</td>\n      <td>Drilbur</td>\n      <td>Ground</td>\n      <td>Ground</td>\n      <td>60</td>\n      <td>85</td>\n      <td>...</td>\n      <td>Tynamo</td>\n      <td>Electric</td>\n      <td>Electric</td>\n      <td>35</td>\n      <td>55</td>\n      <td>40</td>\n      <td>45</td>\n      <td>40</td>\n      <td>60</td>\n      <td>Drilbur</td>\n    </tr>\n    <tr>\n      <th>49997</th>\n      <td>303</td>\n      <td>368</td>\n      <td>368</td>\n      <td>0</td>\n      <td>1</td>\n      <td>Pelipper</td>\n      <td>Water</td>\n      <td>Flying</td>\n      <td>60</td>\n      <td>50</td>\n      <td>...</td>\n      <td>Zangoose</td>\n      <td>Normal</td>\n      <td>Normal</td>\n      <td>73</td>\n      <td>115</td>\n      <td>60</td>\n      <td>60</td>\n      <td>60</td>\n      <td>90</td>\n      <td>Zangoose</td>\n    </tr>\n    <tr>\n      <th>49998</th>\n      <td>109</td>\n      <td>89</td>\n      <td>109</td>\n      <td>1</td>\n      <td>0</td>\n      <td>Voltorb</td>\n      <td>Electric</td>\n      <td>Electric</td>\n      <td>40</td>\n      <td>30</td>\n      <td>...</td>\n      <td>Magnemite</td>\n      <td>Electric</td>\n      <td>Steel</td>\n      <td>25</td>\n      <td>35</td>\n      <td>70</td>\n      <td>95</td>\n      <td>55</td>\n      <td>45</td>\n      <td>Voltorb</td>\n    </tr>\n    <tr>\n      <th>49999</th>\n      <td>9</td>\n      <td>73</td>\n      <td>9</td>\n      <td>1</td>\n      <td>0</td>\n      <td>Mega Charizard Y</td>\n      <td>Fire</td>\n      <td>Flying</td>\n      <td>78</td>\n      <td>104</td>\n      <td>...</td>\n      <td>Machop</td>\n      <td>Fighting</td>\n      <td>Fighting</td>\n      <td>70</td>\n      <td>80</td>\n      <td>50</td>\n      <td>35</td>\n      <td>35</td>\n      <td>35</td>\n      <td>Mega Charizard Y</td>\n    </tr>\n  </tbody>\n</table>\n<p>50000 rows × 24 columns</p>\n</div>"
     },
     "metadata": {},
     "execution_count": 23
    }
   ],
   "source": [
    "df_battle"
   ]
  },
  {
   "cell_type": "markdown",
   "metadata": {},
   "source": [
    "## Labeling Encoder"
   ]
  },
  {
   "cell_type": "code",
   "execution_count": 25,
   "metadata": {},
   "outputs": [],
   "source": [
    "from sklearn.preprocessing import LabelEncoder"
   ]
  },
  {
   "cell_type": "code",
   "execution_count": 27,
   "metadata": {},
   "outputs": [],
   "source": [
    "le = LabelEncoder()"
   ]
  },
  {
   "cell_type": "code",
   "execution_count": 28,
   "metadata": {},
   "outputs": [],
   "source": [
    "le_type1_1st = le.fit_transform(df_battle['Type1_1st'])\n",
    "le_type2_1st = le.fit_transform(df_battle['Type2_1st'])\n",
    "le_type1_2nd = le.fit_transform(df_battle['Type1_2nd'])\n",
    "le_type2_2nd = le.fit_transform(df_battle['Type2_2nd'])"
   ]
  },
  {
   "cell_type": "code",
   "execution_count": 30,
   "metadata": {},
   "outputs": [],
   "source": [
    "df_battle['le_type1_1st'] = le_type1_1st\n",
    "df_battle['le_type2_1st'] = le_type2_1st\n",
    "df_battle['le_type1_2nd'] = le_type1_2nd\n",
    "df_battle['le_type2_2nd'] = le_type2_2nd"
   ]
  },
  {
   "cell_type": "code",
   "execution_count": 31,
   "metadata": {},
   "outputs": [
    {
     "output_type": "execute_result",
     "data": {
      "text/plain": "       First_pokemon  Second_pokemon  Winner  1st_Win  2nd_Win  \\\n0                266             298     298        0        1   \n1                702             701     701        0        1   \n2                191             668     668        0        1   \n3                237             683     683        0        1   \n4                151             231     151        1        0   \n...              ...             ...     ...      ...      ...   \n49995            707             126     707        1        0   \n49996            589             664     589        1        0   \n49997            303             368     368        0        1   \n49998            109              89     109        1        0   \n49999              9              73       9        1        0   \n\n               Name_1st Type1_1st Type2_1st  HP_1st  Atk_1st  ...  Atk_2nd  \\\n0              Larvitar      Rock    Ground      50       64  ...       70   \n1              Virizion     Grass  Fighting      91       90  ...      129   \n2               Togetic     Fairy    Flying      55       40  ...       75   \n3                Slugma      Fire      Fire      40       40  ...      120   \n4               Omastar      Rock     Water      70       60  ...       10   \n...                 ...       ...       ...     ...      ...  ...      ...   \n49995          Reshiram    Dragon      Fire     100      120  ...       40   \n49996           Drilbur    Ground    Ground      60       85  ...       55   \n49997          Pelipper     Water    Flying      60       50  ...      115   \n49998           Voltorb  Electric  Electric      40       30  ...       35   \n49999  Mega Charizard Y      Fire    Flying      78      104  ...       80   \n\n       Def_2nd  SpAtk_2nd  SpDef_2nd Speed_2nd               Win le_type1_1st  \\\n0           40         60         40        60           Nuzleaf           15   \n1           90         72         90       108         Terrakion            9   \n2           75        125         95        40          Beheeyem            4   \n3           90         60         90        48         Druddigon            6   \n4          230         10        230         5           Omastar           15   \n...        ...        ...        ...       ...               ...          ...   \n49995       70         70         25        60          Reshiram            2   \n49996       40         45         40        60           Drilbur           10   \n49997       60         60         60        90          Zangoose           17   \n49998       70         95         55        45           Voltorb            3   \n49999       50         35         35        35  Mega Charizard Y            6   \n\n       le_type2_1st  le_type1_2nd  le_type2_2nd  \n0                10             9             1  \n1                 5            15             5  \n2                 7            14            14  \n3                 6             2             2  \n4                17             0            15  \n...             ...           ...           ...  \n49995             6            17            17  \n49996            10             3             3  \n49997             7            12            12  \n49998             3             3            16  \n49999             7             5             5  \n\n[50000 rows x 28 columns]",
      "text/html": "<div>\n<style scoped>\n    .dataframe tbody tr th:only-of-type {\n        vertical-align: middle;\n    }\n\n    .dataframe tbody tr th {\n        vertical-align: top;\n    }\n\n    .dataframe thead th {\n        text-align: right;\n    }\n</style>\n<table border=\"1\" class=\"dataframe\">\n  <thead>\n    <tr style=\"text-align: right;\">\n      <th></th>\n      <th>First_pokemon</th>\n      <th>Second_pokemon</th>\n      <th>Winner</th>\n      <th>1st_Win</th>\n      <th>2nd_Win</th>\n      <th>Name_1st</th>\n      <th>Type1_1st</th>\n      <th>Type2_1st</th>\n      <th>HP_1st</th>\n      <th>Atk_1st</th>\n      <th>...</th>\n      <th>Atk_2nd</th>\n      <th>Def_2nd</th>\n      <th>SpAtk_2nd</th>\n      <th>SpDef_2nd</th>\n      <th>Speed_2nd</th>\n      <th>Win</th>\n      <th>le_type1_1st</th>\n      <th>le_type2_1st</th>\n      <th>le_type1_2nd</th>\n      <th>le_type2_2nd</th>\n    </tr>\n  </thead>\n  <tbody>\n    <tr>\n      <th>0</th>\n      <td>266</td>\n      <td>298</td>\n      <td>298</td>\n      <td>0</td>\n      <td>1</td>\n      <td>Larvitar</td>\n      <td>Rock</td>\n      <td>Ground</td>\n      <td>50</td>\n      <td>64</td>\n      <td>...</td>\n      <td>70</td>\n      <td>40</td>\n      <td>60</td>\n      <td>40</td>\n      <td>60</td>\n      <td>Nuzleaf</td>\n      <td>15</td>\n      <td>10</td>\n      <td>9</td>\n      <td>1</td>\n    </tr>\n    <tr>\n      <th>1</th>\n      <td>702</td>\n      <td>701</td>\n      <td>701</td>\n      <td>0</td>\n      <td>1</td>\n      <td>Virizion</td>\n      <td>Grass</td>\n      <td>Fighting</td>\n      <td>91</td>\n      <td>90</td>\n      <td>...</td>\n      <td>129</td>\n      <td>90</td>\n      <td>72</td>\n      <td>90</td>\n      <td>108</td>\n      <td>Terrakion</td>\n      <td>9</td>\n      <td>5</td>\n      <td>15</td>\n      <td>5</td>\n    </tr>\n    <tr>\n      <th>2</th>\n      <td>191</td>\n      <td>668</td>\n      <td>668</td>\n      <td>0</td>\n      <td>1</td>\n      <td>Togetic</td>\n      <td>Fairy</td>\n      <td>Flying</td>\n      <td>55</td>\n      <td>40</td>\n      <td>...</td>\n      <td>75</td>\n      <td>75</td>\n      <td>125</td>\n      <td>95</td>\n      <td>40</td>\n      <td>Beheeyem</td>\n      <td>4</td>\n      <td>7</td>\n      <td>14</td>\n      <td>14</td>\n    </tr>\n    <tr>\n      <th>3</th>\n      <td>237</td>\n      <td>683</td>\n      <td>683</td>\n      <td>0</td>\n      <td>1</td>\n      <td>Slugma</td>\n      <td>Fire</td>\n      <td>Fire</td>\n      <td>40</td>\n      <td>40</td>\n      <td>...</td>\n      <td>120</td>\n      <td>90</td>\n      <td>60</td>\n      <td>90</td>\n      <td>48</td>\n      <td>Druddigon</td>\n      <td>6</td>\n      <td>6</td>\n      <td>2</td>\n      <td>2</td>\n    </tr>\n    <tr>\n      <th>4</th>\n      <td>151</td>\n      <td>231</td>\n      <td>151</td>\n      <td>1</td>\n      <td>0</td>\n      <td>Omastar</td>\n      <td>Rock</td>\n      <td>Water</td>\n      <td>70</td>\n      <td>60</td>\n      <td>...</td>\n      <td>10</td>\n      <td>230</td>\n      <td>10</td>\n      <td>230</td>\n      <td>5</td>\n      <td>Omastar</td>\n      <td>15</td>\n      <td>17</td>\n      <td>0</td>\n      <td>15</td>\n    </tr>\n    <tr>\n      <th>...</th>\n      <td>...</td>\n      <td>...</td>\n      <td>...</td>\n      <td>...</td>\n      <td>...</td>\n      <td>...</td>\n      <td>...</td>\n      <td>...</td>\n      <td>...</td>\n      <td>...</td>\n      <td>...</td>\n      <td>...</td>\n      <td>...</td>\n      <td>...</td>\n      <td>...</td>\n      <td>...</td>\n      <td>...</td>\n      <td>...</td>\n      <td>...</td>\n      <td>...</td>\n      <td>...</td>\n    </tr>\n    <tr>\n      <th>49995</th>\n      <td>707</td>\n      <td>126</td>\n      <td>707</td>\n      <td>1</td>\n      <td>0</td>\n      <td>Reshiram</td>\n      <td>Dragon</td>\n      <td>Fire</td>\n      <td>100</td>\n      <td>120</td>\n      <td>...</td>\n      <td>40</td>\n      <td>70</td>\n      <td>70</td>\n      <td>25</td>\n      <td>60</td>\n      <td>Reshiram</td>\n      <td>2</td>\n      <td>6</td>\n      <td>17</td>\n      <td>17</td>\n    </tr>\n    <tr>\n      <th>49996</th>\n      <td>589</td>\n      <td>664</td>\n      <td>589</td>\n      <td>1</td>\n      <td>0</td>\n      <td>Drilbur</td>\n      <td>Ground</td>\n      <td>Ground</td>\n      <td>60</td>\n      <td>85</td>\n      <td>...</td>\n      <td>55</td>\n      <td>40</td>\n      <td>45</td>\n      <td>40</td>\n      <td>60</td>\n      <td>Drilbur</td>\n      <td>10</td>\n      <td>10</td>\n      <td>3</td>\n      <td>3</td>\n    </tr>\n    <tr>\n      <th>49997</th>\n      <td>303</td>\n      <td>368</td>\n      <td>368</td>\n      <td>0</td>\n      <td>1</td>\n      <td>Pelipper</td>\n      <td>Water</td>\n      <td>Flying</td>\n      <td>60</td>\n      <td>50</td>\n      <td>...</td>\n      <td>115</td>\n      <td>60</td>\n      <td>60</td>\n      <td>60</td>\n      <td>90</td>\n      <td>Zangoose</td>\n      <td>17</td>\n      <td>7</td>\n      <td>12</td>\n      <td>12</td>\n    </tr>\n    <tr>\n      <th>49998</th>\n      <td>109</td>\n      <td>89</td>\n      <td>109</td>\n      <td>1</td>\n      <td>0</td>\n      <td>Voltorb</td>\n      <td>Electric</td>\n      <td>Electric</td>\n      <td>40</td>\n      <td>30</td>\n      <td>...</td>\n      <td>35</td>\n      <td>70</td>\n      <td>95</td>\n      <td>55</td>\n      <td>45</td>\n      <td>Voltorb</td>\n      <td>3</td>\n      <td>3</td>\n      <td>3</td>\n      <td>16</td>\n    </tr>\n    <tr>\n      <th>49999</th>\n      <td>9</td>\n      <td>73</td>\n      <td>9</td>\n      <td>1</td>\n      <td>0</td>\n      <td>Mega Charizard Y</td>\n      <td>Fire</td>\n      <td>Flying</td>\n      <td>78</td>\n      <td>104</td>\n      <td>...</td>\n      <td>80</td>\n      <td>50</td>\n      <td>35</td>\n      <td>35</td>\n      <td>35</td>\n      <td>Mega Charizard Y</td>\n      <td>6</td>\n      <td>7</td>\n      <td>5</td>\n      <td>5</td>\n    </tr>\n  </tbody>\n</table>\n<p>50000 rows × 28 columns</p>\n</div>"
     },
     "metadata": {},
     "execution_count": 31
    }
   ],
   "source": [
    "df_battle"
   ]
  },
  {
   "cell_type": "code",
   "execution_count": 32,
   "metadata": {},
   "outputs": [
    {
     "output_type": "stream",
     "name": "stderr",
     "text": "variables: 100%|██████████| 28/28 [00:16<00:00,  1.70it/s]\ncorrelations [recoded]: 100%|██████████| 6/6 [00:10<00:00,  1.69s/it]\ninteractions [continuous]: 100%|██████████| 361/361 [01:05<00:00,  5.52it/s]\ntable: 100%|██████████| 1/1 [00:00<00:00,  1.84it/s]\nmissing [matrix]: 100%|██████████| 2/2 [00:05<00:00,  2.76s/it]\nwarnings [correlations]: 100%|██████████| 3/3 [00:00<00:00, 273.38it/s]\npackage: 100%|██████████| 1/1 [00:00<00:00,  3.97it/s]\nbuild report structure: 100%|██████████| 1/1 [00:11<00:00, 11.11s/it]\n"
    }
   ],
   "source": [
    "profile_raw_2 = df_battle.profile_report(title = 'Pandas Profiling Report')\n",
    "profile_raw_2.to_file(output_file=\"data_profiling_2.html\")"
   ]
  },
  {
   "cell_type": "markdown",
   "metadata": {},
   "source": [
    "This shown that second pokemon have bigger percentage (more count) as the winner.<br><br>\n",
    "<img src=\"images/who_win.png\">"
   ]
  },
  {
   "cell_type": "code",
   "execution_count": 67,
   "metadata": {},
   "outputs": [
    {
     "output_type": "stream",
     "name": "stderr",
     "text": "variables: 100%|██████████| 25/25 [00:06<00:00,  3.84it/s]\ncorrelations [recoded]: 100%|██████████| 6/6 [00:09<00:00,  1.53s/it]\ninteractions [continuous]: 100%|██████████| 225/225 [00:52<00:00,  4.26it/s]\ntable: 100%|██████████| 1/1 [00:00<00:00,  3.07it/s]\nmissing [matrix]: 100%|██████████| 2/2 [00:01<00:00,  1.93it/s]\nwarnings [correlations]: 100%|██████████| 3/3 [00:00<00:00, 300.88it/s]\npackage: 100%|██████████| 1/1 [00:00<00:00, 21.80it/s]\nbuild report structure: 100%|██████████| 1/1 [00:10<00:00, 10.47s/it]\n"
    }
   ],
   "source": [
    "profile_raw = df_battle.profile_report(title = 'Pandas Profiling Report')\n",
    "profile_raw.to_file(output_file=\"data_profiling.html\")"
   ]
  },
  {
   "cell_type": "markdown",
   "metadata": {},
   "source": [
    "### from pandas profiling we got so many information, the highest winner, the most type, and the most pokemon that battle others.\n"
   ]
  },
  {
   "cell_type": "markdown",
   "metadata": {},
   "source": [
    "- 1st Pokemon ID Number Frequency<br><br>\n",
    "<img src=\"images/1st_poke.png\">"
   ]
  },
  {
   "cell_type": "markdown",
   "metadata": {},
   "source": [
    "- 1st Pokemon Name & Type Frequency<br><br>\n",
    "<img src=\"images/1st_poke_name_type.png\">"
   ]
  },
  {
   "cell_type": "markdown",
   "metadata": {},
   "source": [
    "- 2nd Pokemon ID Number<br><br>\n",
    "<img src=\"images/2nd_poke.png\">"
   ]
  },
  {
   "cell_type": "markdown",
   "metadata": {},
   "source": [
    "- 2nd Pokemon Name & Type Frequency<br><br>\n",
    "<img src=\"images/2nd_poke_name_type.png\">"
   ]
  },
  {
   "cell_type": "markdown",
   "metadata": {},
   "source": [
    "Correlation winner with features.<br>\n",
    "We can see that there is no significant correlation, except for First_pokemon and second_pokemon features, it appears that Second_pokemon has a higher positive correlation.<br>\n",
    "When viewed from the victory of the first pokemon or the second pokemon, the correlation to speed is the highest compared to other ability attributes, even defeating the HP correlation.<br><br>\n",
    "<img src=\"images/pearson_corr.png\">"
   ]
  },
  {
   "cell_type": "markdown",
   "metadata": {},
   "source": [
    "### So, the features that we will use are HP, Attack, Defend, & Sp. Attack, Sp. Defend"
   ]
  },
  {
   "cell_type": "markdown",
   "metadata": {},
   "source": [
    "### We will do the same modification as combat.csv for the test.csv file"
   ]
  },
  {
   "cell_type": "code",
   "execution_count": 34,
   "metadata": {},
   "outputs": [],
   "source": [
    "df_test['Name_1st'] =  df_test['First_pokemon'].apply(lambda x: df_pokemon['Name'][x])\n",
    "df_test['Type1_1st'] =  df_test['First_pokemon'].apply(lambda x: df_pokemon['Type 1'][x])\n",
    "df_test['Type2_1st'] =  df_test['First_pokemon'].apply(lambda x: df_pokemon['Type 2'][x])\n",
    "df_test['HP_1st'] =  df_test['First_pokemon'].apply(lambda x: df_pokemon['HP'][x])\n",
    "df_test['Atk_1st'] =  df_test['First_pokemon'].apply(lambda x: df_pokemon['Attack'][x])\n",
    "df_test['Def_1st'] =  df_test['First_pokemon'].apply(lambda x: df_pokemon['Defense'][x])\n",
    "df_test['SpAtk_1st'] =  df_test['First_pokemon'].apply(lambda x: df_pokemon['Sp. Atk'][x])\n",
    "df_test['SpDef_1st'] =  df_test['First_pokemon'].apply(lambda x: df_pokemon['Sp. Def'][x])\n",
    "df_test['Speed_1st'] =  df_test['First_pokemon'].apply(lambda x: df_pokemon['Speed'][x])\n",
    "\n",
    "df_test['Name_2nd'] =  df_test['Second_pokemon'].apply(lambda x: df_pokemon['Name'][x])\n",
    "df_test['Type1_2nd'] =  df_test['Second_pokemon'].apply(lambda x: df_pokemon['Type 1'][x])\n",
    "df_test['Type2_2nd'] =  df_test['Second_pokemon'].apply(lambda x: df_pokemon['Type 2'][x])\n",
    "df_test['HP_2nd'] =  df_test['Second_pokemon'].apply(lambda x: df_pokemon['HP'][x])\n",
    "df_test['Atk_2nd'] =  df_test['Second_pokemon'].apply(lambda x: df_pokemon['Attack'][x])\n",
    "df_test['Def_2nd'] =  df_test['Second_pokemon'].apply(lambda x: df_pokemon['Defense'][x])\n",
    "df_test['SpAtk_2nd'] =  df_test['Second_pokemon'].apply(lambda x: df_pokemon['Sp. Atk'][x])\n",
    "df_test['SpDef_2nd'] =  df_test['Second_pokemon'].apply(lambda x: df_pokemon['Sp. Def'][x])\n",
    "df_test['Speed_2nd'] =  df_test['Second_pokemon'].apply(lambda x: df_pokemon['Speed'][x])"
   ]
  },
  {
   "cell_type": "code",
   "execution_count": 35,
   "metadata": {},
   "outputs": [
    {
     "output_type": "execute_result",
     "data": {
      "text/plain": "      First_pokemon  Second_pokemon                 Name_1st Type1_1st  \\\n0               129             117                  Seaking     Water   \n1               660             211               Ferrothorn     Grass   \n2               706             115  Thundurus Therian Forme  Electric   \n3               195             618                  Flaaffy  Electric   \n4                27             656                  Spearow    Normal   \n...             ...             ...                      ...       ...   \n9995            216             498               Misdreavus     Ghost   \n9996            113             404                   Cubone    Ground   \n9997            493             104                   Gabite    Dragon   \n9998            643             259                   Swanna     Water   \n9999            678             531                  Shelmet       Bug   \n\n     Type2_1st  HP_1st  Atk_1st  Def_1st  SpAtk_1st  SpDef_1st  Speed_1st  \\\n0        Water      80       92       65         65         80         68   \n1        Steel      74       94      131         54        116         20   \n2       Flying      79      105       70        145         80        101   \n3     Electric      70       55       55         80         60         45   \n4       Flying      40       60       30         31         31         70   \n...        ...     ...      ...      ...        ...        ...        ...   \n9995     Ghost      60       60       60         85         85         85   \n9996    Ground      50       50       95         40         50         35   \n9997    Ground      68       90       65         50         55         82   \n9998    Flying      75       87       63         87         63         98   \n9999       Bug      50       40       85         40         65         25   \n\n       Name_2nd Type1_2nd Type2_2nd  HP_2nd  Atk_2nd  Def_2nd  SpAtk_2nd  \\\n0     Lickitung    Normal    Normal      90       55       75         60   \n1      Quagsire     Water    Ground      95       85       85         65   \n2     Hitmonlee  Fighting  Fighting      50      120       53         35   \n3      Maractus     Grass     Grass      75       86       67        106   \n4     Alomomola     Water     Water     165       75       80         40   \n...         ...       ...       ...     ...      ...      ...        ...   \n9995    Lucario  Fighting     Steel      70      110       70        115   \n9996   Gorebyss     Water     Water      55       84      105        114   \n9997       Onix      Rock    Ground      35       45      160         30   \n9998     Elekid  Electric  Electric      45       63       37         65   \n9999   Froslass       Ice     Ghost      70       80       70         80   \n\n      SpDef_2nd  Speed_2nd  \n0            75         30  \n1            65         35  \n2           110         87  \n3            67         60  \n4            45         65  \n...         ...        ...  \n9995         70         90  \n9996         75         52  \n9997         45         70  \n9998         55         95  \n9999         70        110  \n\n[10000 rows x 20 columns]",
      "text/html": "<div>\n<style scoped>\n    .dataframe tbody tr th:only-of-type {\n        vertical-align: middle;\n    }\n\n    .dataframe tbody tr th {\n        vertical-align: top;\n    }\n\n    .dataframe thead th {\n        text-align: right;\n    }\n</style>\n<table border=\"1\" class=\"dataframe\">\n  <thead>\n    <tr style=\"text-align: right;\">\n      <th></th>\n      <th>First_pokemon</th>\n      <th>Second_pokemon</th>\n      <th>Name_1st</th>\n      <th>Type1_1st</th>\n      <th>Type2_1st</th>\n      <th>HP_1st</th>\n      <th>Atk_1st</th>\n      <th>Def_1st</th>\n      <th>SpAtk_1st</th>\n      <th>SpDef_1st</th>\n      <th>Speed_1st</th>\n      <th>Name_2nd</th>\n      <th>Type1_2nd</th>\n      <th>Type2_2nd</th>\n      <th>HP_2nd</th>\n      <th>Atk_2nd</th>\n      <th>Def_2nd</th>\n      <th>SpAtk_2nd</th>\n      <th>SpDef_2nd</th>\n      <th>Speed_2nd</th>\n    </tr>\n  </thead>\n  <tbody>\n    <tr>\n      <th>0</th>\n      <td>129</td>\n      <td>117</td>\n      <td>Seaking</td>\n      <td>Water</td>\n      <td>Water</td>\n      <td>80</td>\n      <td>92</td>\n      <td>65</td>\n      <td>65</td>\n      <td>80</td>\n      <td>68</td>\n      <td>Lickitung</td>\n      <td>Normal</td>\n      <td>Normal</td>\n      <td>90</td>\n      <td>55</td>\n      <td>75</td>\n      <td>60</td>\n      <td>75</td>\n      <td>30</td>\n    </tr>\n    <tr>\n      <th>1</th>\n      <td>660</td>\n      <td>211</td>\n      <td>Ferrothorn</td>\n      <td>Grass</td>\n      <td>Steel</td>\n      <td>74</td>\n      <td>94</td>\n      <td>131</td>\n      <td>54</td>\n      <td>116</td>\n      <td>20</td>\n      <td>Quagsire</td>\n      <td>Water</td>\n      <td>Ground</td>\n      <td>95</td>\n      <td>85</td>\n      <td>85</td>\n      <td>65</td>\n      <td>65</td>\n      <td>35</td>\n    </tr>\n    <tr>\n      <th>2</th>\n      <td>706</td>\n      <td>115</td>\n      <td>Thundurus Therian Forme</td>\n      <td>Electric</td>\n      <td>Flying</td>\n      <td>79</td>\n      <td>105</td>\n      <td>70</td>\n      <td>145</td>\n      <td>80</td>\n      <td>101</td>\n      <td>Hitmonlee</td>\n      <td>Fighting</td>\n      <td>Fighting</td>\n      <td>50</td>\n      <td>120</td>\n      <td>53</td>\n      <td>35</td>\n      <td>110</td>\n      <td>87</td>\n    </tr>\n    <tr>\n      <th>3</th>\n      <td>195</td>\n      <td>618</td>\n      <td>Flaaffy</td>\n      <td>Electric</td>\n      <td>Electric</td>\n      <td>70</td>\n      <td>55</td>\n      <td>55</td>\n      <td>80</td>\n      <td>60</td>\n      <td>45</td>\n      <td>Maractus</td>\n      <td>Grass</td>\n      <td>Grass</td>\n      <td>75</td>\n      <td>86</td>\n      <td>67</td>\n      <td>106</td>\n      <td>67</td>\n      <td>60</td>\n    </tr>\n    <tr>\n      <th>4</th>\n      <td>27</td>\n      <td>656</td>\n      <td>Spearow</td>\n      <td>Normal</td>\n      <td>Flying</td>\n      <td>40</td>\n      <td>60</td>\n      <td>30</td>\n      <td>31</td>\n      <td>31</td>\n      <td>70</td>\n      <td>Alomomola</td>\n      <td>Water</td>\n      <td>Water</td>\n      <td>165</td>\n      <td>75</td>\n      <td>80</td>\n      <td>40</td>\n      <td>45</td>\n      <td>65</td>\n    </tr>\n    <tr>\n      <th>...</th>\n      <td>...</td>\n      <td>...</td>\n      <td>...</td>\n      <td>...</td>\n      <td>...</td>\n      <td>...</td>\n      <td>...</td>\n      <td>...</td>\n      <td>...</td>\n      <td>...</td>\n      <td>...</td>\n      <td>...</td>\n      <td>...</td>\n      <td>...</td>\n      <td>...</td>\n      <td>...</td>\n      <td>...</td>\n      <td>...</td>\n      <td>...</td>\n      <td>...</td>\n    </tr>\n    <tr>\n      <th>9995</th>\n      <td>216</td>\n      <td>498</td>\n      <td>Misdreavus</td>\n      <td>Ghost</td>\n      <td>Ghost</td>\n      <td>60</td>\n      <td>60</td>\n      <td>60</td>\n      <td>85</td>\n      <td>85</td>\n      <td>85</td>\n      <td>Lucario</td>\n      <td>Fighting</td>\n      <td>Steel</td>\n      <td>70</td>\n      <td>110</td>\n      <td>70</td>\n      <td>115</td>\n      <td>70</td>\n      <td>90</td>\n    </tr>\n    <tr>\n      <th>9996</th>\n      <td>113</td>\n      <td>404</td>\n      <td>Cubone</td>\n      <td>Ground</td>\n      <td>Ground</td>\n      <td>50</td>\n      <td>50</td>\n      <td>95</td>\n      <td>40</td>\n      <td>50</td>\n      <td>35</td>\n      <td>Gorebyss</td>\n      <td>Water</td>\n      <td>Water</td>\n      <td>55</td>\n      <td>84</td>\n      <td>105</td>\n      <td>114</td>\n      <td>75</td>\n      <td>52</td>\n    </tr>\n    <tr>\n      <th>9997</th>\n      <td>493</td>\n      <td>104</td>\n      <td>Gabite</td>\n      <td>Dragon</td>\n      <td>Ground</td>\n      <td>68</td>\n      <td>90</td>\n      <td>65</td>\n      <td>50</td>\n      <td>55</td>\n      <td>82</td>\n      <td>Onix</td>\n      <td>Rock</td>\n      <td>Ground</td>\n      <td>35</td>\n      <td>45</td>\n      <td>160</td>\n      <td>30</td>\n      <td>45</td>\n      <td>70</td>\n    </tr>\n    <tr>\n      <th>9998</th>\n      <td>643</td>\n      <td>259</td>\n      <td>Swanna</td>\n      <td>Water</td>\n      <td>Flying</td>\n      <td>75</td>\n      <td>87</td>\n      <td>63</td>\n      <td>87</td>\n      <td>63</td>\n      <td>98</td>\n      <td>Elekid</td>\n      <td>Electric</td>\n      <td>Electric</td>\n      <td>45</td>\n      <td>63</td>\n      <td>37</td>\n      <td>65</td>\n      <td>55</td>\n      <td>95</td>\n    </tr>\n    <tr>\n      <th>9999</th>\n      <td>678</td>\n      <td>531</td>\n      <td>Shelmet</td>\n      <td>Bug</td>\n      <td>Bug</td>\n      <td>50</td>\n      <td>40</td>\n      <td>85</td>\n      <td>40</td>\n      <td>65</td>\n      <td>25</td>\n      <td>Froslass</td>\n      <td>Ice</td>\n      <td>Ghost</td>\n      <td>70</td>\n      <td>80</td>\n      <td>70</td>\n      <td>80</td>\n      <td>70</td>\n      <td>110</td>\n    </tr>\n  </tbody>\n</table>\n<p>10000 rows × 20 columns</p>\n</div>"
     },
     "metadata": {},
     "execution_count": 35
    }
   ],
   "source": [
    "df_test"
   ]
  },
  {
   "cell_type": "markdown",
   "metadata": {},
   "source": [
    "### We will create two new datasets from battle train and test datasets that have been modified."
   ]
  },
  {
   "cell_type": "code",
   "execution_count": 36,
   "metadata": {},
   "outputs": [],
   "source": [
    "df_battle = df_battle.drop(['le_type1_1st','le_type1_2nd','le_type2_1st','le_type2_2nd'],axis=1)"
   ]
  },
  {
   "cell_type": "code",
   "execution_count": 37,
   "metadata": {},
   "outputs": [],
   "source": [
    "df_battle.to_csv('battle.csv', index=False)\n",
    "df_test.to_csv('test2.csv', index=False)"
   ]
  },
  {
   "cell_type": "markdown",
   "metadata": {},
   "source": [
    "## Build the Classifiers"
   ]
  },
  {
   "cell_type": "markdown",
   "metadata": {},
   "source": [
    "### In this case, the research will be carried out using the Decision Tree Classifier algorithm. <br><br>\n",
    "<img src=\"images/DC_Animal.png\">"
   ]
  },
  {
   "cell_type": "code",
   "execution_count": 13,
   "metadata": {},
   "outputs": [],
   "source": [
    "from sklearn.tree import DecisionTreeClassifier as dtc"
   ]
  },
  {
   "cell_type": "markdown",
   "metadata": {},
   "source": [
    "## Train the Classifiers"
   ]
  },
  {
   "cell_type": "markdown",
   "metadata": {},
   "source": [
    "### As seen above, the comparison between the target winners containing the first pokemon or the second pokemon is still classified as balanced data."
   ]
  },
  {
   "cell_type": "code",
   "execution_count": 3,
   "metadata": {},
   "outputs": [
    {
     "output_type": "execute_result",
     "data": {
      "text/plain": "       First_pokemon  Second_pokemon  Winner  1st_Win  2nd_Win  \\\n0                266             298     298        0        1   \n1                702             701     701        0        1   \n2                191             668     668        0        1   \n3                237             683     683        0        1   \n4                151             231     151        1        0   \n...              ...             ...     ...      ...      ...   \n49995            707             126     707        1        0   \n49996            589             664     589        1        0   \n49997            303             368     368        0        1   \n49998            109              89     109        1        0   \n49999              9              73       9        1        0   \n\n               Name_1st Type1_1st Type2_1st  HP_1st  Atk_1st  ...   Name_2nd  \\\n0              Larvitar      Rock    Ground      50       64  ...    Nuzleaf   \n1              Virizion     Grass  Fighting      91       90  ...  Terrakion   \n2               Togetic     Fairy    Flying      55       40  ...   Beheeyem   \n3                Slugma      Fire      Fire      40       40  ...  Druddigon   \n4               Omastar      Rock     Water      70       60  ...    Shuckle   \n...                 ...       ...       ...     ...      ...  ...        ...   \n49995          Reshiram    Dragon      Fire     100      120  ...     Horsea   \n49996           Drilbur    Ground    Ground      60       85  ...     Tynamo   \n49997          Pelipper     Water    Flying      60       50  ...   Zangoose   \n49998           Voltorb  Electric  Electric      40       30  ...  Magnemite   \n49999  Mega Charizard Y      Fire    Flying      78      104  ...     Machop   \n\n       Type1_2nd  Type2_2nd  HP_2nd Atk_2nd Def_2nd SpAtk_2nd  SpDef_2nd  \\\n0          Grass       Dark      70      70      40        60         40   \n1           Rock   Fighting      91     129      90        72         90   \n2        Psychic    Psychic      75      75      75       125         95   \n3         Dragon     Dragon      77     120      90        60         90   \n4            Bug       Rock      20      10     230        10        230   \n...          ...        ...     ...     ...     ...       ...        ...   \n49995      Water      Water      30      40      70        70         25   \n49996   Electric   Electric      35      55      40        45         40   \n49997     Normal     Normal      73     115      60        60         60   \n49998   Electric      Steel      25      35      70        95         55   \n49999   Fighting   Fighting      70      80      50        35         35   \n\n       Speed_2nd               Win  \n0             60           Nuzleaf  \n1            108         Terrakion  \n2             40          Beheeyem  \n3             48         Druddigon  \n4              5           Omastar  \n...          ...               ...  \n49995         60          Reshiram  \n49996         60           Drilbur  \n49997         90          Zangoose  \n49998         45           Voltorb  \n49999         35  Mega Charizard Y  \n\n[50000 rows x 24 columns]",
      "text/html": "<div>\n<style scoped>\n    .dataframe tbody tr th:only-of-type {\n        vertical-align: middle;\n    }\n\n    .dataframe tbody tr th {\n        vertical-align: top;\n    }\n\n    .dataframe thead th {\n        text-align: right;\n    }\n</style>\n<table border=\"1\" class=\"dataframe\">\n  <thead>\n    <tr style=\"text-align: right;\">\n      <th></th>\n      <th>First_pokemon</th>\n      <th>Second_pokemon</th>\n      <th>Winner</th>\n      <th>1st_Win</th>\n      <th>2nd_Win</th>\n      <th>Name_1st</th>\n      <th>Type1_1st</th>\n      <th>Type2_1st</th>\n      <th>HP_1st</th>\n      <th>Atk_1st</th>\n      <th>...</th>\n      <th>Name_2nd</th>\n      <th>Type1_2nd</th>\n      <th>Type2_2nd</th>\n      <th>HP_2nd</th>\n      <th>Atk_2nd</th>\n      <th>Def_2nd</th>\n      <th>SpAtk_2nd</th>\n      <th>SpDef_2nd</th>\n      <th>Speed_2nd</th>\n      <th>Win</th>\n    </tr>\n  </thead>\n  <tbody>\n    <tr>\n      <th>0</th>\n      <td>266</td>\n      <td>298</td>\n      <td>298</td>\n      <td>0</td>\n      <td>1</td>\n      <td>Larvitar</td>\n      <td>Rock</td>\n      <td>Ground</td>\n      <td>50</td>\n      <td>64</td>\n      <td>...</td>\n      <td>Nuzleaf</td>\n      <td>Grass</td>\n      <td>Dark</td>\n      <td>70</td>\n      <td>70</td>\n      <td>40</td>\n      <td>60</td>\n      <td>40</td>\n      <td>60</td>\n      <td>Nuzleaf</td>\n    </tr>\n    <tr>\n      <th>1</th>\n      <td>702</td>\n      <td>701</td>\n      <td>701</td>\n      <td>0</td>\n      <td>1</td>\n      <td>Virizion</td>\n      <td>Grass</td>\n      <td>Fighting</td>\n      <td>91</td>\n      <td>90</td>\n      <td>...</td>\n      <td>Terrakion</td>\n      <td>Rock</td>\n      <td>Fighting</td>\n      <td>91</td>\n      <td>129</td>\n      <td>90</td>\n      <td>72</td>\n      <td>90</td>\n      <td>108</td>\n      <td>Terrakion</td>\n    </tr>\n    <tr>\n      <th>2</th>\n      <td>191</td>\n      <td>668</td>\n      <td>668</td>\n      <td>0</td>\n      <td>1</td>\n      <td>Togetic</td>\n      <td>Fairy</td>\n      <td>Flying</td>\n      <td>55</td>\n      <td>40</td>\n      <td>...</td>\n      <td>Beheeyem</td>\n      <td>Psychic</td>\n      <td>Psychic</td>\n      <td>75</td>\n      <td>75</td>\n      <td>75</td>\n      <td>125</td>\n      <td>95</td>\n      <td>40</td>\n      <td>Beheeyem</td>\n    </tr>\n    <tr>\n      <th>3</th>\n      <td>237</td>\n      <td>683</td>\n      <td>683</td>\n      <td>0</td>\n      <td>1</td>\n      <td>Slugma</td>\n      <td>Fire</td>\n      <td>Fire</td>\n      <td>40</td>\n      <td>40</td>\n      <td>...</td>\n      <td>Druddigon</td>\n      <td>Dragon</td>\n      <td>Dragon</td>\n      <td>77</td>\n      <td>120</td>\n      <td>90</td>\n      <td>60</td>\n      <td>90</td>\n      <td>48</td>\n      <td>Druddigon</td>\n    </tr>\n    <tr>\n      <th>4</th>\n      <td>151</td>\n      <td>231</td>\n      <td>151</td>\n      <td>1</td>\n      <td>0</td>\n      <td>Omastar</td>\n      <td>Rock</td>\n      <td>Water</td>\n      <td>70</td>\n      <td>60</td>\n      <td>...</td>\n      <td>Shuckle</td>\n      <td>Bug</td>\n      <td>Rock</td>\n      <td>20</td>\n      <td>10</td>\n      <td>230</td>\n      <td>10</td>\n      <td>230</td>\n      <td>5</td>\n      <td>Omastar</td>\n    </tr>\n    <tr>\n      <th>...</th>\n      <td>...</td>\n      <td>...</td>\n      <td>...</td>\n      <td>...</td>\n      <td>...</td>\n      <td>...</td>\n      <td>...</td>\n      <td>...</td>\n      <td>...</td>\n      <td>...</td>\n      <td>...</td>\n      <td>...</td>\n      <td>...</td>\n      <td>...</td>\n      <td>...</td>\n      <td>...</td>\n      <td>...</td>\n      <td>...</td>\n      <td>...</td>\n      <td>...</td>\n      <td>...</td>\n    </tr>\n    <tr>\n      <th>49995</th>\n      <td>707</td>\n      <td>126</td>\n      <td>707</td>\n      <td>1</td>\n      <td>0</td>\n      <td>Reshiram</td>\n      <td>Dragon</td>\n      <td>Fire</td>\n      <td>100</td>\n      <td>120</td>\n      <td>...</td>\n      <td>Horsea</td>\n      <td>Water</td>\n      <td>Water</td>\n      <td>30</td>\n      <td>40</td>\n      <td>70</td>\n      <td>70</td>\n      <td>25</td>\n      <td>60</td>\n      <td>Reshiram</td>\n    </tr>\n    <tr>\n      <th>49996</th>\n      <td>589</td>\n      <td>664</td>\n      <td>589</td>\n      <td>1</td>\n      <td>0</td>\n      <td>Drilbur</td>\n      <td>Ground</td>\n      <td>Ground</td>\n      <td>60</td>\n      <td>85</td>\n      <td>...</td>\n      <td>Tynamo</td>\n      <td>Electric</td>\n      <td>Electric</td>\n      <td>35</td>\n      <td>55</td>\n      <td>40</td>\n      <td>45</td>\n      <td>40</td>\n      <td>60</td>\n      <td>Drilbur</td>\n    </tr>\n    <tr>\n      <th>49997</th>\n      <td>303</td>\n      <td>368</td>\n      <td>368</td>\n      <td>0</td>\n      <td>1</td>\n      <td>Pelipper</td>\n      <td>Water</td>\n      <td>Flying</td>\n      <td>60</td>\n      <td>50</td>\n      <td>...</td>\n      <td>Zangoose</td>\n      <td>Normal</td>\n      <td>Normal</td>\n      <td>73</td>\n      <td>115</td>\n      <td>60</td>\n      <td>60</td>\n      <td>60</td>\n      <td>90</td>\n      <td>Zangoose</td>\n    </tr>\n    <tr>\n      <th>49998</th>\n      <td>109</td>\n      <td>89</td>\n      <td>109</td>\n      <td>1</td>\n      <td>0</td>\n      <td>Voltorb</td>\n      <td>Electric</td>\n      <td>Electric</td>\n      <td>40</td>\n      <td>30</td>\n      <td>...</td>\n      <td>Magnemite</td>\n      <td>Electric</td>\n      <td>Steel</td>\n      <td>25</td>\n      <td>35</td>\n      <td>70</td>\n      <td>95</td>\n      <td>55</td>\n      <td>45</td>\n      <td>Voltorb</td>\n    </tr>\n    <tr>\n      <th>49999</th>\n      <td>9</td>\n      <td>73</td>\n      <td>9</td>\n      <td>1</td>\n      <td>0</td>\n      <td>Mega Charizard Y</td>\n      <td>Fire</td>\n      <td>Flying</td>\n      <td>78</td>\n      <td>104</td>\n      <td>...</td>\n      <td>Machop</td>\n      <td>Fighting</td>\n      <td>Fighting</td>\n      <td>70</td>\n      <td>80</td>\n      <td>50</td>\n      <td>35</td>\n      <td>35</td>\n      <td>35</td>\n      <td>Mega Charizard Y</td>\n    </tr>\n  </tbody>\n</table>\n<p>50000 rows × 24 columns</p>\n</div>"
     },
     "metadata": {},
     "execution_count": 3
    }
   ],
   "source": [
    "df_train = pd.read_csv(\"battle.csv\")\n",
    "df_train"
   ]
  },
  {
   "cell_type": "code",
   "execution_count": 4,
   "metadata": {},
   "outputs": [],
   "source": [
    "x = df_train.drop(['First_pokemon','Second_pokemon','Winner','1st_Win','2nd_Win','Name_1st','Name_2nd','Type1_1st','Type2_1st','Type1_2nd','Type2_2nd','Win'],axis=1)\n",
    "y = df_train[['2nd_Win']]"
   ]
  },
  {
   "cell_type": "code",
   "execution_count": 5,
   "metadata": {},
   "outputs": [
    {
     "output_type": "execute_result",
     "data": {
      "text/plain": "       HP_1st  Atk_1st  Def_1st  SpAtk_1st  SpDef_1st  Speed_1st  HP_2nd  \\\n0          50       64       50         45         50         41      70   \n1          91       90       72         90        129        108      91   \n2          55       40       85         80        105         40      75   \n3          40       40       40         70         40         20      77   \n4          70       60      125        115         70         55      20   \n...       ...      ...      ...        ...        ...        ...     ...   \n49995     100      120      100        150        120         90      30   \n49996      60       85       40         30         45         68      35   \n49997      60       50      100         85         70         65      73   \n49998      40       30       50         55         55        100      25   \n49999      78      104       78        159        115        100      70   \n\n       Atk_2nd  Def_2nd  SpAtk_2nd  SpDef_2nd  Speed_2nd  \n0           70       40         60         40         60  \n1          129       90         72         90        108  \n2           75       75        125         95         40  \n3          120       90         60         90         48  \n4           10      230         10        230          5  \n...        ...      ...        ...        ...        ...  \n49995       40       70         70         25         60  \n49996       55       40         45         40         60  \n49997      115       60         60         60         90  \n49998       35       70         95         55         45  \n49999       80       50         35         35         35  \n\n[50000 rows x 12 columns]",
      "text/html": "<div>\n<style scoped>\n    .dataframe tbody tr th:only-of-type {\n        vertical-align: middle;\n    }\n\n    .dataframe tbody tr th {\n        vertical-align: top;\n    }\n\n    .dataframe thead th {\n        text-align: right;\n    }\n</style>\n<table border=\"1\" class=\"dataframe\">\n  <thead>\n    <tr style=\"text-align: right;\">\n      <th></th>\n      <th>HP_1st</th>\n      <th>Atk_1st</th>\n      <th>Def_1st</th>\n      <th>SpAtk_1st</th>\n      <th>SpDef_1st</th>\n      <th>Speed_1st</th>\n      <th>HP_2nd</th>\n      <th>Atk_2nd</th>\n      <th>Def_2nd</th>\n      <th>SpAtk_2nd</th>\n      <th>SpDef_2nd</th>\n      <th>Speed_2nd</th>\n    </tr>\n  </thead>\n  <tbody>\n    <tr>\n      <th>0</th>\n      <td>50</td>\n      <td>64</td>\n      <td>50</td>\n      <td>45</td>\n      <td>50</td>\n      <td>41</td>\n      <td>70</td>\n      <td>70</td>\n      <td>40</td>\n      <td>60</td>\n      <td>40</td>\n      <td>60</td>\n    </tr>\n    <tr>\n      <th>1</th>\n      <td>91</td>\n      <td>90</td>\n      <td>72</td>\n      <td>90</td>\n      <td>129</td>\n      <td>108</td>\n      <td>91</td>\n      <td>129</td>\n      <td>90</td>\n      <td>72</td>\n      <td>90</td>\n      <td>108</td>\n    </tr>\n    <tr>\n      <th>2</th>\n      <td>55</td>\n      <td>40</td>\n      <td>85</td>\n      <td>80</td>\n      <td>105</td>\n      <td>40</td>\n      <td>75</td>\n      <td>75</td>\n      <td>75</td>\n      <td>125</td>\n      <td>95</td>\n      <td>40</td>\n    </tr>\n    <tr>\n      <th>3</th>\n      <td>40</td>\n      <td>40</td>\n      <td>40</td>\n      <td>70</td>\n      <td>40</td>\n      <td>20</td>\n      <td>77</td>\n      <td>120</td>\n      <td>90</td>\n      <td>60</td>\n      <td>90</td>\n      <td>48</td>\n    </tr>\n    <tr>\n      <th>4</th>\n      <td>70</td>\n      <td>60</td>\n      <td>125</td>\n      <td>115</td>\n      <td>70</td>\n      <td>55</td>\n      <td>20</td>\n      <td>10</td>\n      <td>230</td>\n      <td>10</td>\n      <td>230</td>\n      <td>5</td>\n    </tr>\n    <tr>\n      <th>...</th>\n      <td>...</td>\n      <td>...</td>\n      <td>...</td>\n      <td>...</td>\n      <td>...</td>\n      <td>...</td>\n      <td>...</td>\n      <td>...</td>\n      <td>...</td>\n      <td>...</td>\n      <td>...</td>\n      <td>...</td>\n    </tr>\n    <tr>\n      <th>49995</th>\n      <td>100</td>\n      <td>120</td>\n      <td>100</td>\n      <td>150</td>\n      <td>120</td>\n      <td>90</td>\n      <td>30</td>\n      <td>40</td>\n      <td>70</td>\n      <td>70</td>\n      <td>25</td>\n      <td>60</td>\n    </tr>\n    <tr>\n      <th>49996</th>\n      <td>60</td>\n      <td>85</td>\n      <td>40</td>\n      <td>30</td>\n      <td>45</td>\n      <td>68</td>\n      <td>35</td>\n      <td>55</td>\n      <td>40</td>\n      <td>45</td>\n      <td>40</td>\n      <td>60</td>\n    </tr>\n    <tr>\n      <th>49997</th>\n      <td>60</td>\n      <td>50</td>\n      <td>100</td>\n      <td>85</td>\n      <td>70</td>\n      <td>65</td>\n      <td>73</td>\n      <td>115</td>\n      <td>60</td>\n      <td>60</td>\n      <td>60</td>\n      <td>90</td>\n    </tr>\n    <tr>\n      <th>49998</th>\n      <td>40</td>\n      <td>30</td>\n      <td>50</td>\n      <td>55</td>\n      <td>55</td>\n      <td>100</td>\n      <td>25</td>\n      <td>35</td>\n      <td>70</td>\n      <td>95</td>\n      <td>55</td>\n      <td>45</td>\n    </tr>\n    <tr>\n      <th>49999</th>\n      <td>78</td>\n      <td>104</td>\n      <td>78</td>\n      <td>159</td>\n      <td>115</td>\n      <td>100</td>\n      <td>70</td>\n      <td>80</td>\n      <td>50</td>\n      <td>35</td>\n      <td>35</td>\n      <td>35</td>\n    </tr>\n  </tbody>\n</table>\n<p>50000 rows × 12 columns</p>\n</div>"
     },
     "metadata": {},
     "execution_count": 5
    }
   ],
   "source": [
    "x"
   ]
  },
  {
   "cell_type": "code",
   "execution_count": 6,
   "metadata": {},
   "outputs": [
    {
     "output_type": "execute_result",
     "data": {
      "text/plain": "       2nd_Win\n0            1\n1            1\n2            1\n3            1\n4            0\n...        ...\n49995        0\n49996        0\n49997        1\n49998        0\n49999        0\n\n[50000 rows x 1 columns]",
      "text/html": "<div>\n<style scoped>\n    .dataframe tbody tr th:only-of-type {\n        vertical-align: middle;\n    }\n\n    .dataframe tbody tr th {\n        vertical-align: top;\n    }\n\n    .dataframe thead th {\n        text-align: right;\n    }\n</style>\n<table border=\"1\" class=\"dataframe\">\n  <thead>\n    <tr style=\"text-align: right;\">\n      <th></th>\n      <th>2nd_Win</th>\n    </tr>\n  </thead>\n  <tbody>\n    <tr>\n      <th>0</th>\n      <td>1</td>\n    </tr>\n    <tr>\n      <th>1</th>\n      <td>1</td>\n    </tr>\n    <tr>\n      <th>2</th>\n      <td>1</td>\n    </tr>\n    <tr>\n      <th>3</th>\n      <td>1</td>\n    </tr>\n    <tr>\n      <th>4</th>\n      <td>0</td>\n    </tr>\n    <tr>\n      <th>...</th>\n      <td>...</td>\n    </tr>\n    <tr>\n      <th>49995</th>\n      <td>0</td>\n    </tr>\n    <tr>\n      <th>49996</th>\n      <td>0</td>\n    </tr>\n    <tr>\n      <th>49997</th>\n      <td>1</td>\n    </tr>\n    <tr>\n      <th>49998</th>\n      <td>0</td>\n    </tr>\n    <tr>\n      <th>49999</th>\n      <td>0</td>\n    </tr>\n  </tbody>\n</table>\n<p>50000 rows × 1 columns</p>\n</div>"
     },
     "metadata": {},
     "execution_count": 6
    }
   ],
   "source": [
    "y"
   ]
  },
  {
   "cell_type": "markdown",
   "metadata": {},
   "source": [
    "### Splitting"
   ]
  },
  {
   "cell_type": "code",
   "execution_count": 7,
   "metadata": {},
   "outputs": [],
   "source": [
    "from sklearn.model_selection import train_test_split"
   ]
  },
  {
   "cell_type": "code",
   "execution_count": 8,
   "metadata": {},
   "outputs": [],
   "source": [
    "xtr, xts, ytr, yts = train_test_split(x, y, test_size=0.2, random_state=21)"
   ]
  },
  {
   "cell_type": "code",
   "execution_count": 9,
   "metadata": {},
   "outputs": [
    {
     "output_type": "stream",
     "name": "stdout",
     "text": "(40000, 12)\n(40000, 1)\n(10000, 12)\n(10000, 1)\n"
    }
   ],
   "source": [
    "print(xtr.shape)\n",
    "print(ytr.shape)\n",
    "print(xts.shape)\n",
    "print(yts.shape)"
   ]
  },
  {
   "cell_type": "code",
   "execution_count": 11,
   "metadata": {},
   "outputs": [
    {
     "output_type": "execute_result",
     "data": {
      "text/plain": "       HP_1st  Atk_1st  Def_1st  SpAtk_1st  SpDef_1st  Speed_1st  HP_2nd  \\\n26733      59       59       58         90         70         73      54   \n33996      79      115       70        125         80        111      41   \n20423      70      110       75        145         85        145      90   \n17716      90      110       80        100         80         95      80   \n49103      50      100      150        100        150         50      55   \n...       ...      ...      ...        ...        ...        ...     ...   \n2639       70      140      230         60         80         50      36   \n6656        1       90       45         30         30         40      60   \n16176      55      112       45         74         45         70      55   \n10147      54       78      103         53         45         22      57   \n18040      40       30       30         55         30         85      64   \n\n       Atk_2nd  Def_2nd  SpAtk_2nd  SpDef_2nd  Speed_2nd  \n26733       45       47         75         98         52  \n33996       56       40         62         44         71  \n20423       75       85        115         90         55  \n17716      135       85         70         95        150  \n49103       55       45         63         45         45  \n...        ...      ...        ...        ...        ...  \n2639        50       50         65         60         44  \n6656       100       89         55         69        112  \n16176      104      105         94         75         52  \n10147       80       91         80         87         75  \n18040       88       50         88         50        106  \n\n[10000 rows x 12 columns]",
      "text/html": "<div>\n<style scoped>\n    .dataframe tbody tr th:only-of-type {\n        vertical-align: middle;\n    }\n\n    .dataframe tbody tr th {\n        vertical-align: top;\n    }\n\n    .dataframe thead th {\n        text-align: right;\n    }\n</style>\n<table border=\"1\" class=\"dataframe\">\n  <thead>\n    <tr style=\"text-align: right;\">\n      <th></th>\n      <th>HP_1st</th>\n      <th>Atk_1st</th>\n      <th>Def_1st</th>\n      <th>SpAtk_1st</th>\n      <th>SpDef_1st</th>\n      <th>Speed_1st</th>\n      <th>HP_2nd</th>\n      <th>Atk_2nd</th>\n      <th>Def_2nd</th>\n      <th>SpAtk_2nd</th>\n      <th>SpDef_2nd</th>\n      <th>Speed_2nd</th>\n    </tr>\n  </thead>\n  <tbody>\n    <tr>\n      <th>26733</th>\n      <td>59</td>\n      <td>59</td>\n      <td>58</td>\n      <td>90</td>\n      <td>70</td>\n      <td>73</td>\n      <td>54</td>\n      <td>45</td>\n      <td>47</td>\n      <td>75</td>\n      <td>98</td>\n      <td>52</td>\n    </tr>\n    <tr>\n      <th>33996</th>\n      <td>79</td>\n      <td>115</td>\n      <td>70</td>\n      <td>125</td>\n      <td>80</td>\n      <td>111</td>\n      <td>41</td>\n      <td>56</td>\n      <td>40</td>\n      <td>62</td>\n      <td>44</td>\n      <td>71</td>\n    </tr>\n    <tr>\n      <th>20423</th>\n      <td>70</td>\n      <td>110</td>\n      <td>75</td>\n      <td>145</td>\n      <td>85</td>\n      <td>145</td>\n      <td>90</td>\n      <td>75</td>\n      <td>85</td>\n      <td>115</td>\n      <td>90</td>\n      <td>55</td>\n    </tr>\n    <tr>\n      <th>17716</th>\n      <td>90</td>\n      <td>110</td>\n      <td>80</td>\n      <td>100</td>\n      <td>80</td>\n      <td>95</td>\n      <td>80</td>\n      <td>135</td>\n      <td>85</td>\n      <td>70</td>\n      <td>95</td>\n      <td>150</td>\n    </tr>\n    <tr>\n      <th>49103</th>\n      <td>50</td>\n      <td>100</td>\n      <td>150</td>\n      <td>100</td>\n      <td>150</td>\n      <td>50</td>\n      <td>55</td>\n      <td>55</td>\n      <td>45</td>\n      <td>63</td>\n      <td>45</td>\n      <td>45</td>\n    </tr>\n    <tr>\n      <th>...</th>\n      <td>...</td>\n      <td>...</td>\n      <td>...</td>\n      <td>...</td>\n      <td>...</td>\n      <td>...</td>\n      <td>...</td>\n      <td>...</td>\n      <td>...</td>\n      <td>...</td>\n      <td>...</td>\n      <td>...</td>\n    </tr>\n    <tr>\n      <th>2639</th>\n      <td>70</td>\n      <td>140</td>\n      <td>230</td>\n      <td>60</td>\n      <td>80</td>\n      <td>50</td>\n      <td>36</td>\n      <td>50</td>\n      <td>50</td>\n      <td>65</td>\n      <td>60</td>\n      <td>44</td>\n    </tr>\n    <tr>\n      <th>6656</th>\n      <td>1</td>\n      <td>90</td>\n      <td>45</td>\n      <td>30</td>\n      <td>30</td>\n      <td>40</td>\n      <td>60</td>\n      <td>100</td>\n      <td>89</td>\n      <td>55</td>\n      <td>69</td>\n      <td>112</td>\n    </tr>\n    <tr>\n      <th>16176</th>\n      <td>55</td>\n      <td>112</td>\n      <td>45</td>\n      <td>74</td>\n      <td>45</td>\n      <td>70</td>\n      <td>55</td>\n      <td>104</td>\n      <td>105</td>\n      <td>94</td>\n      <td>75</td>\n      <td>52</td>\n    </tr>\n    <tr>\n      <th>10147</th>\n      <td>54</td>\n      <td>78</td>\n      <td>103</td>\n      <td>53</td>\n      <td>45</td>\n      <td>22</td>\n      <td>57</td>\n      <td>80</td>\n      <td>91</td>\n      <td>80</td>\n      <td>87</td>\n      <td>75</td>\n    </tr>\n    <tr>\n      <th>18040</th>\n      <td>40</td>\n      <td>30</td>\n      <td>30</td>\n      <td>55</td>\n      <td>30</td>\n      <td>85</td>\n      <td>64</td>\n      <td>88</td>\n      <td>50</td>\n      <td>88</td>\n      <td>50</td>\n      <td>106</td>\n    </tr>\n  </tbody>\n</table>\n<p>10000 rows × 12 columns</p>\n</div>"
     },
     "metadata": {},
     "execution_count": 11
    }
   ],
   "source": [
    "xts"
   ]
  },
  {
   "cell_type": "code",
   "execution_count": 14,
   "metadata": {},
   "outputs": [
    {
     "output_type": "execute_result",
     "data": {
      "text/plain": "DecisionTreeClassifier(ccp_alpha=0.0, class_weight=None, criterion='gini',\n                       max_depth=None, max_features=None, max_leaf_nodes=None,\n                       min_impurity_decrease=0.0, min_impurity_split=None,\n                       min_samples_leaf=1, min_samples_split=2,\n                       min_weight_fraction_leaf=0.0, presort='deprecated',\n                       random_state=None, splitter='best')"
     },
     "metadata": {},
     "execution_count": 14
    }
   ],
   "source": [
    "dtcDef = dtc().fit(xtr,ytr)\n",
    "dtcDef"
   ]
  },
  {
   "cell_type": "code",
   "execution_count": 15,
   "metadata": {},
   "outputs": [
    {
     "output_type": "stream",
     "name": "stdout",
     "text": "0.9999\n0.9194\n"
    }
   ],
   "source": [
    "dtcScore_train = dtcDef.score(xtr,ytr)\n",
    "dtcScore_test = dtcDef.score(xts,yts)\n",
    "print(dtcScore_train)\n",
    "print(dtcScore_test)"
   ]
  },
  {
   "cell_type": "markdown",
   "metadata": {},
   "source": [
    "We see something weird here, so we chheck it. Is there any pokemon with HP value is one?"
   ]
  },
  {
   "cell_type": "code",
   "execution_count": 16,
   "metadata": {},
   "outputs": [
    {
     "output_type": "execute_result",
     "data": {
      "text/plain": "      HP_1st  Atk_1st  Def_1st  SpAtk_1st  SpDef_1st  Speed_1st  HP_2nd  \\\n6656       1       90       45         30         30         40      60   \n\n      Atk_2nd  Def_2nd  SpAtk_2nd  SpDef_2nd  Speed_2nd  \n6656      100       89         55         69        112  ",
      "text/html": "<div>\n<style scoped>\n    .dataframe tbody tr th:only-of-type {\n        vertical-align: middle;\n    }\n\n    .dataframe tbody tr th {\n        vertical-align: top;\n    }\n\n    .dataframe thead th {\n        text-align: right;\n    }\n</style>\n<table border=\"1\" class=\"dataframe\">\n  <thead>\n    <tr style=\"text-align: right;\">\n      <th></th>\n      <th>HP_1st</th>\n      <th>Atk_1st</th>\n      <th>Def_1st</th>\n      <th>SpAtk_1st</th>\n      <th>SpDef_1st</th>\n      <th>Speed_1st</th>\n      <th>HP_2nd</th>\n      <th>Atk_2nd</th>\n      <th>Def_2nd</th>\n      <th>SpAtk_2nd</th>\n      <th>SpDef_2nd</th>\n      <th>Speed_2nd</th>\n    </tr>\n  </thead>\n  <tbody>\n    <tr>\n      <th>6656</th>\n      <td>1</td>\n      <td>90</td>\n      <td>45</td>\n      <td>30</td>\n      <td>30</td>\n      <td>40</td>\n      <td>60</td>\n      <td>100</td>\n      <td>89</td>\n      <td>55</td>\n      <td>69</td>\n      <td>112</td>\n    </tr>\n  </tbody>\n</table>\n</div>"
     },
     "metadata": {},
     "execution_count": 16
    }
   ],
   "source": [
    "xts.iloc[[9996]]"
   ]
  },
  {
   "cell_type": "code",
   "execution_count": 23,
   "metadata": {},
   "outputs": [
    {
     "output_type": "execute_result",
     "data": {
      "text/plain": "       #      Name Type 1 Type 2  HP  Attack  Defense  Sp. Atk  Sp. Def  \\\n316  317  Shedinja    Bug  Ghost   1      90       45       30       30   \n\n     Speed  Generation  Legendary  \n316     40           3      False  ",
      "text/html": "<div>\n<style scoped>\n    .dataframe tbody tr th:only-of-type {\n        vertical-align: middle;\n    }\n\n    .dataframe tbody tr th {\n        vertical-align: top;\n    }\n\n    .dataframe thead th {\n        text-align: right;\n    }\n</style>\n<table border=\"1\" class=\"dataframe\">\n  <thead>\n    <tr style=\"text-align: right;\">\n      <th></th>\n      <th>#</th>\n      <th>Name</th>\n      <th>Type 1</th>\n      <th>Type 2</th>\n      <th>HP</th>\n      <th>Attack</th>\n      <th>Defense</th>\n      <th>Sp. Atk</th>\n      <th>Sp. Def</th>\n      <th>Speed</th>\n      <th>Generation</th>\n      <th>Legendary</th>\n    </tr>\n  </thead>\n  <tbody>\n    <tr>\n      <th>316</th>\n      <td>317</td>\n      <td>Shedinja</td>\n      <td>Bug</td>\n      <td>Ghost</td>\n      <td>1</td>\n      <td>90</td>\n      <td>45</td>\n      <td>30</td>\n      <td>30</td>\n      <td>40</td>\n      <td>3</td>\n      <td>False</td>\n    </tr>\n  </tbody>\n</table>\n</div>"
     },
     "metadata": {},
     "execution_count": 23
    }
   ],
   "source": [
    "df_pokemon.loc[df_pokemon['Name']=='Shedinja']"
   ]
  },
  {
   "cell_type": "code",
   "execution_count": 24,
   "metadata": {},
   "outputs": [
    {
     "output_type": "execute_result",
     "data": {
      "text/plain": "      First_pokemon  Second_pokemon  Winner  1st_Win  2nd_Win  Name_1st  \\\n413             317             294     317        1        0  Shedinja   \n1136            317             102     102        0        1  Shedinja   \n3339            317             367     367        0        1  Shedinja   \n3369            317              56      56        0        1  Shedinja   \n4731            317             437     317        1        0  Shedinja   \n\n     Type1_1st Type2_1st  HP_1st  Atk_1st  ...      Name_2nd  Type1_2nd  \\\n413        Bug     Ghost       1       90  ...         Lotad      Water   \n1136       Bug     Ghost       1       90  ...        Gengar      Ghost   \n3339       Bug     Ghost       1       90  ...  Mega Altaria     Dragon   \n3369       Bug     Ghost       1       90  ...       Diglett     Ground   \n4731       Bug     Ghost       1       90  ...      Monferno       Fire   \n\n      Type2_2nd  HP_2nd Atk_2nd Def_2nd SpAtk_2nd  SpDef_2nd  Speed_2nd  \\\n413       Grass      40      30      30        40         50         30   \n1136     Poison      60      65      60       130         75        110   \n3339      Fairy      75     110     110       110        105         80   \n3369     Ground      10      55      25        35         45         95   \n4731   Fighting      64      78      52        78         52         81   \n\n               Win  \n413       Shedinja  \n1136        Gengar  \n3339  Mega Altaria  \n3369       Diglett  \n4731      Shedinja  \n\n[5 rows x 24 columns]",
      "text/html": "<div>\n<style scoped>\n    .dataframe tbody tr th:only-of-type {\n        vertical-align: middle;\n    }\n\n    .dataframe tbody tr th {\n        vertical-align: top;\n    }\n\n    .dataframe thead th {\n        text-align: right;\n    }\n</style>\n<table border=\"1\" class=\"dataframe\">\n  <thead>\n    <tr style=\"text-align: right;\">\n      <th></th>\n      <th>First_pokemon</th>\n      <th>Second_pokemon</th>\n      <th>Winner</th>\n      <th>1st_Win</th>\n      <th>2nd_Win</th>\n      <th>Name_1st</th>\n      <th>Type1_1st</th>\n      <th>Type2_1st</th>\n      <th>HP_1st</th>\n      <th>Atk_1st</th>\n      <th>...</th>\n      <th>Name_2nd</th>\n      <th>Type1_2nd</th>\n      <th>Type2_2nd</th>\n      <th>HP_2nd</th>\n      <th>Atk_2nd</th>\n      <th>Def_2nd</th>\n      <th>SpAtk_2nd</th>\n      <th>SpDef_2nd</th>\n      <th>Speed_2nd</th>\n      <th>Win</th>\n    </tr>\n  </thead>\n  <tbody>\n    <tr>\n      <th>413</th>\n      <td>317</td>\n      <td>294</td>\n      <td>317</td>\n      <td>1</td>\n      <td>0</td>\n      <td>Shedinja</td>\n      <td>Bug</td>\n      <td>Ghost</td>\n      <td>1</td>\n      <td>90</td>\n      <td>...</td>\n      <td>Lotad</td>\n      <td>Water</td>\n      <td>Grass</td>\n      <td>40</td>\n      <td>30</td>\n      <td>30</td>\n      <td>40</td>\n      <td>50</td>\n      <td>30</td>\n      <td>Shedinja</td>\n    </tr>\n    <tr>\n      <th>1136</th>\n      <td>317</td>\n      <td>102</td>\n      <td>102</td>\n      <td>0</td>\n      <td>1</td>\n      <td>Shedinja</td>\n      <td>Bug</td>\n      <td>Ghost</td>\n      <td>1</td>\n      <td>90</td>\n      <td>...</td>\n      <td>Gengar</td>\n      <td>Ghost</td>\n      <td>Poison</td>\n      <td>60</td>\n      <td>65</td>\n      <td>60</td>\n      <td>130</td>\n      <td>75</td>\n      <td>110</td>\n      <td>Gengar</td>\n    </tr>\n    <tr>\n      <th>3339</th>\n      <td>317</td>\n      <td>367</td>\n      <td>367</td>\n      <td>0</td>\n      <td>1</td>\n      <td>Shedinja</td>\n      <td>Bug</td>\n      <td>Ghost</td>\n      <td>1</td>\n      <td>90</td>\n      <td>...</td>\n      <td>Mega Altaria</td>\n      <td>Dragon</td>\n      <td>Fairy</td>\n      <td>75</td>\n      <td>110</td>\n      <td>110</td>\n      <td>110</td>\n      <td>105</td>\n      <td>80</td>\n      <td>Mega Altaria</td>\n    </tr>\n    <tr>\n      <th>3369</th>\n      <td>317</td>\n      <td>56</td>\n      <td>56</td>\n      <td>0</td>\n      <td>1</td>\n      <td>Shedinja</td>\n      <td>Bug</td>\n      <td>Ghost</td>\n      <td>1</td>\n      <td>90</td>\n      <td>...</td>\n      <td>Diglett</td>\n      <td>Ground</td>\n      <td>Ground</td>\n      <td>10</td>\n      <td>55</td>\n      <td>25</td>\n      <td>35</td>\n      <td>45</td>\n      <td>95</td>\n      <td>Diglett</td>\n    </tr>\n    <tr>\n      <th>4731</th>\n      <td>317</td>\n      <td>437</td>\n      <td>317</td>\n      <td>1</td>\n      <td>0</td>\n      <td>Shedinja</td>\n      <td>Bug</td>\n      <td>Ghost</td>\n      <td>1</td>\n      <td>90</td>\n      <td>...</td>\n      <td>Monferno</td>\n      <td>Fire</td>\n      <td>Fighting</td>\n      <td>64</td>\n      <td>78</td>\n      <td>52</td>\n      <td>78</td>\n      <td>52</td>\n      <td>81</td>\n      <td>Shedinja</td>\n    </tr>\n  </tbody>\n</table>\n<p>5 rows × 24 columns</p>\n</div>"
     },
     "metadata": {},
     "execution_count": 24
    }
   ],
   "source": [
    "df_train.loc[df_train['HP_1st']==1].head()"
   ]
  },
  {
   "cell_type": "markdown",
   "metadata": {},
   "source": [
    "Check probability"
   ]
  },
  {
   "cell_type": "code",
   "execution_count": 25,
   "metadata": {},
   "outputs": [
    {
     "output_type": "execute_result",
     "data": {
      "text/plain": "1"
     },
     "metadata": {},
     "execution_count": 25
    }
   ],
   "source": [
    "ypDTC_500 = dtcDef.predict(xts.iloc[[500]])[0]\n",
    "ypDTC_500"
   ]
  },
  {
   "cell_type": "code",
   "execution_count": 26,
   "metadata": {},
   "outputs": [
    {
     "output_type": "execute_result",
     "data": {
      "text/plain": "2nd_Win    0\nName: 42149, dtype: int64"
     },
     "metadata": {},
     "execution_count": 26
    }
   ],
   "source": [
    "yts.iloc[500]"
   ]
  },
  {
   "cell_type": "code",
   "execution_count": 27,
   "metadata": {},
   "outputs": [
    {
     "output_type": "execute_result",
     "data": {
      "text/plain": "array([  0., 100.])"
     },
     "metadata": {},
     "execution_count": 27
    }
   ],
   "source": [
    "probaDTC_500 = dtcDef.predict_proba(xts.iloc[[500]])[0]*100\n",
    "probaDTC_500"
   ]
  },
  {
   "cell_type": "markdown",
   "metadata": {},
   "source": [
    "## Evaluation Metrics"
   ]
  },
  {
   "cell_type": "code",
   "execution_count": null,
   "metadata": {},
   "outputs": [],
   "source": []
  },
  {
   "cell_type": "markdown",
   "metadata": {},
   "source": [
    "A decision tree computes the class probability from the number of samples of each class that fall into a given leaf.\n",
    "\n",
    "The default values for the parameters controlling the size of the trees (e.g. max_depth, min_sample_leaf,etc) lead to fully grown & unpruned trees.\n",
    "\n",
    "The tree is grown until it perfectly overfits the training data.This means that all training samples in each leaf are of the same class & a test sample either matches that class  (p=1) or does not (p=0)"
   ]
  },
  {
   "cell_type": "markdown",
   "metadata": {},
   "source": [
    "### Take another algorithm that can measure probability "
   ]
  },
  {
   "cell_type": "markdown",
   "metadata": {},
   "source": [
    "## Gradien Boost Classifier"
   ]
  },
  {
   "cell_type": "markdown",
   "metadata": {},
   "source": [
    "This picture shown that the differences between bagging & boosting algorithm.<br><br>\n",
    "<img src=\"images/bagging-boosting.png\">"
   ]
  },
  {
   "cell_type": "code",
   "execution_count": 30,
   "metadata": {},
   "outputs": [],
   "source": [
    "from sklearn.ensemble import GradientBoostingClassifier as gbc"
   ]
  },
  {
   "cell_type": "code",
   "execution_count": 31,
   "metadata": {},
   "outputs": [
    {
     "output_type": "execute_result",
     "data": {
      "text/plain": "GradientBoostingClassifier(ccp_alpha=0.0, criterion='friedman_mse', init=None,\n                           learning_rate=0.1, loss='deviance', max_depth=3,\n                           max_features=None, max_leaf_nodes=None,\n                           min_impurity_decrease=0.0, min_impurity_split=None,\n                           min_samples_leaf=1, min_samples_split=2,\n                           min_weight_fraction_leaf=0.0, n_estimators=100,\n                           n_iter_no_change=None, presort='deprecated',\n                           random_state=None, subsample=1.0, tol=0.0001,\n                           validation_fraction=0.1, verbose=0,\n                           warm_start=False)"
     },
     "metadata": {},
     "execution_count": 31
    }
   ],
   "source": [
    "gbcdef = gbc().fit(xtr, ytr)\n",
    "gbcdef"
   ]
  },
  {
   "cell_type": "code",
   "execution_count": 32,
   "metadata": {},
   "outputs": [
    {
     "output_type": "stream",
     "name": "stdout",
     "text": "0.926175\n0.9199\n"
    }
   ],
   "source": [
    "gbcScore_train = gbcdef.score(xtr,ytr)\n",
    "gbcScore_test = gbcdef.score(xts,yts)\n",
    "print(gbcScore_train)\n",
    "print(gbcScore_test)"
   ]
  },
  {
   "cell_type": "code",
   "execution_count": 33,
   "metadata": {},
   "outputs": [
    {
     "output_type": "execute_result",
     "data": {
      "text/plain": "0"
     },
     "metadata": {},
     "execution_count": 33
    }
   ],
   "source": [
    "ypGBC_500 = gbcdef.predict(xts.iloc[[500]])[0]\n",
    "ypGBC_500"
   ]
  },
  {
   "cell_type": "code",
   "execution_count": 34,
   "metadata": {},
   "outputs": [
    {
     "output_type": "execute_result",
     "data": {
      "text/plain": "2nd_Win    0\nName: 42149, dtype: int64"
     },
     "metadata": {},
     "execution_count": 34
    }
   ],
   "source": [
    "yts.iloc[500]"
   ]
  },
  {
   "cell_type": "code",
   "execution_count": 35,
   "metadata": {},
   "outputs": [
    {
     "output_type": "execute_result",
     "data": {
      "text/plain": "array([85.53099954, 14.46900046])"
     },
     "metadata": {},
     "execution_count": 35
    }
   ],
   "source": [
    "probaGBC_500 = gbcdef.predict_proba(xts.iloc[[500]])[0]*100\n",
    "probaGBC_500"
   ]
  },
  {
   "cell_type": "code",
   "execution_count": 36,
   "metadata": {},
   "outputs": [
    {
     "output_type": "execute_result",
     "data": {
      "text/plain": "1"
     },
     "metadata": {},
     "execution_count": 36
    }
   ],
   "source": [
    "ypGBC_9996 = gbcdef.predict(xts.iloc[[9996]])[0]\n",
    "ypGBC_9996"
   ]
  },
  {
   "cell_type": "code",
   "execution_count": 37,
   "metadata": {},
   "outputs": [
    {
     "output_type": "execute_result",
     "data": {
      "text/plain": "2nd_Win    1\nName: 6656, dtype: int64"
     },
     "metadata": {},
     "execution_count": 37
    }
   ],
   "source": [
    "yts.iloc[9996]"
   ]
  },
  {
   "cell_type": "code",
   "execution_count": 38,
   "metadata": {},
   "outputs": [
    {
     "output_type": "execute_result",
     "data": {
      "text/plain": "array([ 3.16957768, 96.83042232])"
     },
     "metadata": {},
     "execution_count": 38
    }
   ],
   "source": [
    "probaGBC_9996 = gbcdef.predict_proba(xts.iloc[[9996]])[0]*100\n",
    "probaGBC_9996"
   ]
  },
  {
   "cell_type": "markdown",
   "metadata": {},
   "source": [
    "## Evaluation Metrics"
   ]
  },
  {
   "cell_type": "code",
   "execution_count": null,
   "metadata": {},
   "outputs": [],
   "source": []
  },
  {
   "cell_type": "markdown",
   "metadata": {},
   "source": [
    "### Insert Pokemon 1 and Pokemon 2 for predict"
   ]
  },
  {
   "cell_type": "code",
   "execution_count": 121,
   "metadata": {},
   "outputs": [],
   "source": [
    "pokemon1 = 'mega diancie'\n",
    "pokemon2 = 'Mewtwo'"
   ]
  },
  {
   "cell_type": "code",
   "execution_count": 126,
   "metadata": {},
   "outputs": [
    {
     "output_type": "stream",
     "name": "stdout",
     "text": "True\n['mega', 'diancie']\nMega Diancie\n[]\n"
    }
   ],
   "source": [
    "new = []\n",
    "for sp in pokemon1:\n",
    "    if sp.isspace():\n",
    "        print('True')\n",
    "        splitting = pokemon1.split(' ')\n",
    "        print(splitting)\n",
    "        for x in splitting:\n",
    "            y = x.capitalize()\n",
    "            new.append(y)\n",
    "            if len(new) == 2:\n",
    "                pokemon1 = new[0] + ' ' + new[1]\n",
    "            elif len(new) == 3:\n",
    "                pokemon1 = new[0] + ' ' + new[1] + ' ' + new[2]\n",
    "        dataA = df_pokemon[df_pokemon['Name'] == pokemon1][['HP','Attack', 'Defense', 'Sp. Atk', 'Sp. Def', 'Speed']].values.tolist()\n",
    "        break\n",
    "    else:\n",
    "       dataA = df_pokemon[df_pokemon['Name'] == pokemon1.capitalize()][['HP','Attack', 'Defense', 'Sp. Atk', 'Sp. Def', 'Speed']].values.tolist()\n",
    "print(pokemon1)\n",
    "print(dataA)"
   ]
  },
  {
   "cell_type": "code",
   "execution_count": 93,
   "metadata": {},
   "outputs": [
    {
     "output_type": "stream",
     "name": "stdout",
     "text": "Mewtwo\n[[106, 110, 90, 154, 90, 130]]\n"
    }
   ],
   "source": [
    "new = []\n",
    "for sp in pokemon2:\n",
    "    if sp.isspace():\n",
    "        print('True')\n",
    "        splitting = pokemon2.split(' ')\n",
    "        print(splitting)\n",
    "        for x in splitting:\n",
    "            y = x.capitalize()\n",
    "            new.append(y)\n",
    "            if len(new) == 2:\n",
    "                pokemon2 = new[0] + ' ' + new[1]\n",
    "            elif len(new) == 3:\n",
    "                pokemon2 = new[0] + ' ' + new[1] + ' ' + new[2]\n",
    "        dataB = df_pokemon[df_pokemon['Name'] == pokemon2][['HP','Attack', 'Defense', 'Sp. Atk', 'Sp. Def', 'Speed']].values.tolist()\n",
    "        break\n",
    "    else:\n",
    "        dataB = df_pokemon[df_pokemon['Name'] == pokemon2.capitalize()][['HP','Attack', 'Defense', 'Sp. Atk', 'Sp. Def', 'Speed']].values.tolist()\n",
    "print(pokemon2)\n",
    "print(dataB)"
   ]
  },
  {
   "cell_type": "code",
   "execution_count": 94,
   "metadata": {},
   "outputs": [
    {
     "output_type": "execute_result",
     "data": {
      "text/plain": "[50, 160, 110, 160, 110, 110, 106, 110, 90, 154, 90, 130]"
     },
     "metadata": {},
     "execution_count": 94
    }
   ],
   "source": [
    "test_data = dataA[0]\n",
    "test_data.extend(dataB[0])\n",
    "test_data"
   ]
  },
  {
   "cell_type": "code",
   "execution_count": 95,
   "metadata": {},
   "outputs": [
    {
     "output_type": "execute_result",
     "data": {
      "text/plain": "1"
     },
     "metadata": {},
     "execution_count": 95
    }
   ],
   "source": [
    "pred = gbcdef.predict([test_data])[0]\n",
    "pred"
   ]
  },
  {
   "cell_type": "code",
   "execution_count": 96,
   "metadata": {},
   "outputs": [
    {
     "output_type": "execute_result",
     "data": {
      "text/plain": "78.7555935009715"
     },
     "metadata": {},
     "execution_count": 96
    }
   ],
   "source": [
    "pred_proba = gbcdef.predict_proba([test_data])[0][pred]*100\n",
    "pred_proba"
   ]
  },
  {
   "cell_type": "code",
   "execution_count": 114,
   "metadata": {},
   "outputs": [],
   "source": [
    "data1 = df_pokemon[df_pokemon['Name']==pokemon1][['HP','Attack','Defense','Sp. Atk','Sp. Def','Speed']].values.tolist()\n",
    "data2 = df_pokemon[df_pokemon['Name']==pokemon2][['HP','Attack','Defense','Sp. Atk','Sp. Def','Speed']].values.tolist()"
   ]
  },
  {
   "cell_type": "markdown",
   "metadata": {},
   "source": [
    "## Result Pokemon Battle"
   ]
  },
  {
   "cell_type": "code",
   "execution_count": 97,
   "metadata": {},
   "outputs": [
    {
     "output_type": "stream",
     "name": "stdout",
     "text": "Mewtwo Probability Wins is 78.76 %\n"
    }
   ],
   "source": [
    "if pred == 1:\n",
    "    print(f'{pokemon2} Probability Wins is {pred_proba:.2f} %')\n",
    "elif pred == 0:\n",
    "    print(f'{pokemon1} Probability Wins is {pred_proba:.2f} %')"
   ]
  },
  {
   "cell_type": "code",
   "execution_count": 119,
   "metadata": {},
   "outputs": [
    {
     "output_type": "execute_result",
     "data": {
      "text/plain": "<matplotlib.legend.Legend at 0x1ad15d07208>"
     },
     "metadata": {},
     "execution_count": 119
    },
    {
     "output_type": "display_data",
     "data": {
      "text/plain": "<Figure size 576x396 with 1 Axes>",
      "image/svg+xml": "<?xml version=\"1.0\" encoding=\"utf-8\" standalone=\"no\"?>\r\n<!DOCTYPE svg PUBLIC \"-//W3C//DTD SVG 1.1//EN\"\r\n  \"http://www.w3.org/Graphics/SVG/1.1/DTD/svg11.dtd\">\r\n<!-- Created with matplotlib (https://matplotlib.org/) -->\r\n<svg height=\"361.942656pt\" version=\"1.1\" viewBox=\"0 0 502.042656 361.942656\" width=\"502.042656pt\" xmlns=\"http://www.w3.org/2000/svg\" xmlns:xlink=\"http://www.w3.org/1999/xlink\">\r\n <defs>\r\n  <style type=\"text/css\">\r\n*{stroke-linecap:butt;stroke-linejoin:round;}\r\n  </style>\r\n </defs>\r\n <g id=\"figure_1\">\r\n  <g id=\"patch_1\">\r\n   <path d=\"M 0 361.942656 \r\nL 502.042656 361.942656 \r\nL 502.042656 0 \r\nL 0 0 \r\nz\r\n\" style=\"fill:#ffffff;\"/>\r\n  </g>\r\n  <g id=\"axes_1\">\r\n   <g id=\"patch_2\">\r\n    <path d=\"M 48.442656 320.915625 \r\nL 494.842656 320.915625 \r\nL 494.842656 21.935625 \r\nL 48.442656 21.935625 \r\nz\r\n\" style=\"fill:#ffffff;\"/>\r\n   </g>\r\n   <g id=\"matplotlib.axis_1\">\r\n    <g id=\"xtick_1\">\r\n     <g id=\"text_1\">\r\n      <!-- HP -->\r\n      <defs>\r\n       <path d=\"M 8.015625 0 \r\nL 8.015625 71.578125 \r\nL 17.484375 71.578125 \r\nL 17.484375 42.1875 \r\nL 54.6875 42.1875 \r\nL 54.6875 71.578125 \r\nL 64.15625 71.578125 \r\nL 64.15625 0 \r\nL 54.6875 0 \r\nL 54.6875 33.734375 \r\nL 17.484375 33.734375 \r\nL 17.484375 0 \r\nz\r\n\" id=\"ArialMT-72\"/>\r\n       <path d=\"M 7.71875 0 \r\nL 7.71875 71.578125 \r\nL 34.71875 71.578125 \r\nQ 41.84375 71.578125 45.609375 70.90625 \r\nQ 50.875 70.015625 54.4375 67.546875 \r\nQ 58.015625 65.09375 60.1875 60.640625 \r\nQ 62.359375 56.203125 62.359375 50.875 \r\nQ 62.359375 41.75 56.546875 35.421875 \r\nQ 50.734375 29.109375 35.546875 29.109375 \r\nL 17.1875 29.109375 \r\nL 17.1875 0 \r\nz\r\nM 17.1875 37.546875 \r\nL 35.6875 37.546875 \r\nQ 44.875 37.546875 48.734375 40.96875 \r\nQ 52.59375 44.390625 52.59375 50.59375 \r\nQ 52.59375 55.078125 50.3125 58.265625 \r\nQ 48.046875 61.46875 44.34375 62.5 \r\nQ 41.9375 63.140625 35.5 63.140625 \r\nL 17.1875 63.140625 \r\nz\r\n\" id=\"ArialMT-80\"/>\r\n      </defs>\r\n      <g style=\"fill:#262626;\" transform=\"translate(83.527731 338.573437)scale(0.1 -0.1)\">\r\n       <use xlink:href=\"#ArialMT-72\"/>\r\n       <use x=\"72.216797\" xlink:href=\"#ArialMT-80\"/>\r\n      </g>\r\n     </g>\r\n    </g>\r\n    <g id=\"xtick_2\">\r\n     <g id=\"text_2\">\r\n      <!-- Attack -->\r\n      <defs>\r\n       <path d=\"M -0.140625 0 \r\nL 27.34375 71.578125 \r\nL 37.546875 71.578125 \r\nL 66.84375 0 \r\nL 56.0625 0 \r\nL 47.703125 21.6875 \r\nL 17.78125 21.6875 \r\nL 9.90625 0 \r\nz\r\nM 20.515625 29.390625 \r\nL 44.78125 29.390625 \r\nL 37.3125 49.21875 \r\nQ 33.890625 58.25 32.234375 64.0625 \r\nQ 30.859375 57.171875 28.375 50.390625 \r\nz\r\n\" id=\"ArialMT-65\"/>\r\n       <path d=\"M 25.78125 7.859375 \r\nL 27.046875 0.09375 \r\nQ 23.34375 -0.6875 20.40625 -0.6875 \r\nQ 15.625 -0.6875 12.984375 0.828125 \r\nQ 10.359375 2.34375 9.28125 4.8125 \r\nQ 8.203125 7.28125 8.203125 15.1875 \r\nL 8.203125 45.015625 \r\nL 1.765625 45.015625 \r\nL 1.765625 51.859375 \r\nL 8.203125 51.859375 \r\nL 8.203125 64.703125 \r\nL 16.9375 69.96875 \r\nL 16.9375 51.859375 \r\nL 25.78125 51.859375 \r\nL 25.78125 45.015625 \r\nL 16.9375 45.015625 \r\nL 16.9375 14.703125 \r\nQ 16.9375 10.9375 17.40625 9.859375 \r\nQ 17.875 8.796875 18.921875 8.15625 \r\nQ 19.96875 7.515625 21.921875 7.515625 \r\nQ 23.390625 7.515625 25.78125 7.859375 \r\nz\r\n\" id=\"ArialMT-116\"/>\r\n       <path d=\"M 40.4375 6.390625 \r\nQ 35.546875 2.25 31.03125 0.53125 \r\nQ 26.515625 -1.171875 21.34375 -1.171875 \r\nQ 12.796875 -1.171875 8.203125 3 \r\nQ 3.609375 7.171875 3.609375 13.671875 \r\nQ 3.609375 17.484375 5.34375 20.625 \r\nQ 7.078125 23.78125 9.890625 25.6875 \r\nQ 12.703125 27.59375 16.21875 28.5625 \r\nQ 18.796875 29.25 24.03125 29.890625 \r\nQ 34.671875 31.15625 39.703125 32.90625 \r\nQ 39.75 34.71875 39.75 35.203125 \r\nQ 39.75 40.578125 37.25 42.78125 \r\nQ 33.890625 45.75 27.25 45.75 \r\nQ 21.046875 45.75 18.09375 43.578125 \r\nQ 15.140625 41.40625 13.71875 35.890625 \r\nL 5.125 37.0625 \r\nQ 6.296875 42.578125 8.984375 45.96875 \r\nQ 11.671875 49.359375 16.75 51.1875 \r\nQ 21.828125 53.03125 28.515625 53.03125 \r\nQ 35.15625 53.03125 39.296875 51.46875 \r\nQ 43.453125 49.90625 45.40625 47.53125 \r\nQ 47.359375 45.171875 48.140625 41.546875 \r\nQ 48.578125 39.3125 48.578125 33.453125 \r\nL 48.578125 21.734375 \r\nQ 48.578125 9.46875 49.140625 6.21875 \r\nQ 49.703125 2.984375 51.375 0 \r\nL 42.1875 0 \r\nQ 40.828125 2.734375 40.4375 6.390625 \r\nz\r\nM 39.703125 26.03125 \r\nQ 34.90625 24.078125 25.34375 22.703125 \r\nQ 19.921875 21.921875 17.671875 20.9375 \r\nQ 15.4375 19.96875 14.203125 18.09375 \r\nQ 12.984375 16.21875 12.984375 13.921875 \r\nQ 12.984375 10.40625 15.640625 8.0625 \r\nQ 18.3125 5.71875 23.4375 5.71875 \r\nQ 28.515625 5.71875 32.46875 7.9375 \r\nQ 36.421875 10.15625 38.28125 14.015625 \r\nQ 39.703125 17 39.703125 22.796875 \r\nz\r\n\" id=\"ArialMT-97\"/>\r\n       <path d=\"M 40.4375 19 \r\nL 49.078125 17.875 \r\nQ 47.65625 8.9375 41.8125 3.875 \r\nQ 35.984375 -1.171875 27.484375 -1.171875 \r\nQ 16.84375 -1.171875 10.375 5.78125 \r\nQ 3.90625 12.75 3.90625 25.734375 \r\nQ 3.90625 34.125 6.6875 40.421875 \r\nQ 9.46875 46.734375 15.15625 49.875 \r\nQ 20.84375 53.03125 27.546875 53.03125 \r\nQ 35.984375 53.03125 41.359375 48.75 \r\nQ 46.734375 44.484375 48.25 36.625 \r\nL 39.703125 35.296875 \r\nQ 38.484375 40.53125 35.375 43.15625 \r\nQ 32.28125 45.796875 27.875 45.796875 \r\nQ 21.234375 45.796875 17.078125 41.03125 \r\nQ 12.9375 36.28125 12.9375 25.984375 \r\nQ 12.9375 15.53125 16.9375 10.796875 \r\nQ 20.953125 6.0625 27.390625 6.0625 \r\nQ 32.5625 6.0625 36.03125 9.234375 \r\nQ 39.5 12.40625 40.4375 19 \r\nz\r\n\" id=\"ArialMT-99\"/>\r\n       <path d=\"M 6.640625 0 \r\nL 6.640625 71.578125 \r\nL 15.4375 71.578125 \r\nL 15.4375 30.765625 \r\nL 36.234375 51.859375 \r\nL 47.609375 51.859375 \r\nL 27.78125 32.625 \r\nL 49.609375 0 \r\nL 38.765625 0 \r\nL 21.625 26.515625 \r\nL 15.4375 20.5625 \r\nL 15.4375 0 \r\nz\r\n\" id=\"ArialMT-107\"/>\r\n      </defs>\r\n      <g style=\"fill:#262626;\" transform=\"translate(149.047608 338.573437)scale(0.1 -0.1)\">\r\n       <use xlink:href=\"#ArialMT-65\"/>\r\n       <use x=\"66.699219\" xlink:href=\"#ArialMT-116\"/>\r\n       <use x=\"94.482422\" xlink:href=\"#ArialMT-116\"/>\r\n       <use x=\"122.265625\" xlink:href=\"#ArialMT-97\"/>\r\n       <use x=\"177.880859\" xlink:href=\"#ArialMT-99\"/>\r\n       <use x=\"227.880859\" xlink:href=\"#ArialMT-107\"/>\r\n      </g>\r\n     </g>\r\n    </g>\r\n    <g id=\"xtick_3\">\r\n     <g id=\"text_3\">\r\n      <!-- Defense -->\r\n      <defs>\r\n       <path d=\"M 7.71875 0 \r\nL 7.71875 71.578125 \r\nL 32.375 71.578125 \r\nQ 40.71875 71.578125 45.125 70.5625 \r\nQ 51.265625 69.140625 55.609375 65.4375 \r\nQ 61.28125 60.640625 64.078125 53.1875 \r\nQ 66.890625 45.75 66.890625 36.1875 \r\nQ 66.890625 28.03125 64.984375 21.734375 \r\nQ 63.09375 15.4375 60.109375 11.296875 \r\nQ 57.125 7.171875 53.578125 4.796875 \r\nQ 50.046875 2.4375 45.046875 1.21875 \r\nQ 40.046875 0 33.546875 0 \r\nz\r\nM 17.1875 8.453125 \r\nL 32.46875 8.453125 \r\nQ 39.546875 8.453125 43.578125 9.765625 \r\nQ 47.609375 11.078125 50 13.484375 \r\nQ 53.375 16.84375 55.25 22.53125 \r\nQ 57.125 28.21875 57.125 36.328125 \r\nQ 57.125 47.5625 53.4375 53.59375 \r\nQ 49.75 59.625 44.484375 61.671875 \r\nQ 40.671875 63.140625 32.234375 63.140625 \r\nL 17.1875 63.140625 \r\nz\r\n\" id=\"ArialMT-68\"/>\r\n       <path d=\"M 42.09375 16.703125 \r\nL 51.171875 15.578125 \r\nQ 49.03125 7.625 43.21875 3.21875 \r\nQ 37.40625 -1.171875 28.375 -1.171875 \r\nQ 17 -1.171875 10.328125 5.828125 \r\nQ 3.65625 12.84375 3.65625 25.484375 \r\nQ 3.65625 38.578125 10.390625 45.796875 \r\nQ 17.140625 53.03125 27.875 53.03125 \r\nQ 38.28125 53.03125 44.875 45.953125 \r\nQ 51.46875 38.875 51.46875 26.03125 \r\nQ 51.46875 25.25 51.421875 23.6875 \r\nL 12.75 23.6875 \r\nQ 13.234375 15.140625 17.578125 10.59375 \r\nQ 21.921875 6.0625 28.421875 6.0625 \r\nQ 33.25 6.0625 36.671875 8.59375 \r\nQ 40.09375 11.140625 42.09375 16.703125 \r\nz\r\nM 13.234375 30.90625 \r\nL 42.1875 30.90625 \r\nQ 41.609375 37.453125 38.875 40.71875 \r\nQ 34.671875 45.796875 27.984375 45.796875 \r\nQ 21.921875 45.796875 17.796875 41.75 \r\nQ 13.671875 37.703125 13.234375 30.90625 \r\nz\r\n\" id=\"ArialMT-101\"/>\r\n       <path d=\"M 8.6875 0 \r\nL 8.6875 45.015625 \r\nL 0.921875 45.015625 \r\nL 0.921875 51.859375 \r\nL 8.6875 51.859375 \r\nL 8.6875 57.375 \r\nQ 8.6875 62.59375 9.625 65.140625 \r\nQ 10.890625 68.5625 14.078125 70.671875 \r\nQ 17.28125 72.796875 23.046875 72.796875 \r\nQ 26.765625 72.796875 31.25 71.921875 \r\nL 29.9375 64.265625 \r\nQ 27.203125 64.75 24.75 64.75 \r\nQ 20.75 64.75 19.09375 63.03125 \r\nQ 17.4375 61.328125 17.4375 56.640625 \r\nL 17.4375 51.859375 \r\nL 27.546875 51.859375 \r\nL 27.546875 45.015625 \r\nL 17.4375 45.015625 \r\nL 17.4375 0 \r\nz\r\n\" id=\"ArialMT-102\"/>\r\n       <path d=\"M 6.59375 0 \r\nL 6.59375 51.859375 \r\nL 14.5 51.859375 \r\nL 14.5 44.484375 \r\nQ 20.21875 53.03125 31 53.03125 \r\nQ 35.6875 53.03125 39.625 51.34375 \r\nQ 43.5625 49.65625 45.515625 46.921875 \r\nQ 47.46875 44.1875 48.25 40.4375 \r\nQ 48.734375 37.984375 48.734375 31.890625 \r\nL 48.734375 0 \r\nL 39.9375 0 \r\nL 39.9375 31.546875 \r\nQ 39.9375 36.921875 38.90625 39.578125 \r\nQ 37.890625 42.234375 35.28125 43.8125 \r\nQ 32.671875 45.40625 29.15625 45.40625 \r\nQ 23.53125 45.40625 19.453125 41.84375 \r\nQ 15.375 38.28125 15.375 28.328125 \r\nL 15.375 0 \r\nz\r\n\" id=\"ArialMT-110\"/>\r\n       <path d=\"M 3.078125 15.484375 \r\nL 11.765625 16.84375 \r\nQ 12.5 11.625 15.84375 8.84375 \r\nQ 19.1875 6.0625 25.203125 6.0625 \r\nQ 31.25 6.0625 34.171875 8.515625 \r\nQ 37.109375 10.984375 37.109375 14.3125 \r\nQ 37.109375 17.28125 34.515625 19 \r\nQ 32.71875 20.171875 25.53125 21.96875 \r\nQ 15.875 24.421875 12.140625 26.203125 \r\nQ 8.40625 27.984375 6.46875 31.125 \r\nQ 4.546875 34.28125 4.546875 38.09375 \r\nQ 4.546875 41.546875 6.125 44.5 \r\nQ 7.71875 47.46875 10.453125 49.421875 \r\nQ 12.5 50.921875 16.03125 51.96875 \r\nQ 19.578125 53.03125 23.640625 53.03125 \r\nQ 29.734375 53.03125 34.34375 51.265625 \r\nQ 38.96875 49.515625 41.15625 46.5 \r\nQ 43.359375 43.5 44.1875 38.484375 \r\nL 35.59375 37.3125 \r\nQ 35.015625 41.3125 32.203125 43.546875 \r\nQ 29.390625 45.796875 24.265625 45.796875 \r\nQ 18.21875 45.796875 15.625 43.796875 \r\nQ 13.03125 41.796875 13.03125 39.109375 \r\nQ 13.03125 37.40625 14.109375 36.03125 \r\nQ 15.1875 34.625 17.484375 33.6875 \r\nQ 18.796875 33.203125 25.25 31.453125 \r\nQ 34.578125 28.953125 38.25 27.359375 \r\nQ 41.9375 25.78125 44.03125 22.75 \r\nQ 46.140625 19.734375 46.140625 15.234375 \r\nQ 46.140625 10.84375 43.578125 6.953125 \r\nQ 41.015625 3.078125 36.171875 0.953125 \r\nQ 31.34375 -1.171875 25.25 -1.171875 \r\nQ 15.140625 -1.171875 9.84375 3.03125 \r\nQ 4.546875 7.234375 3.078125 15.484375 \r\nz\r\n\" id=\"ArialMT-115\"/>\r\n      </defs>\r\n      <g style=\"fill:#262626;\" transform=\"translate(216.787015 338.573437)scale(0.1 -0.1)\">\r\n       <use xlink:href=\"#ArialMT-68\"/>\r\n       <use x=\"72.216797\" xlink:href=\"#ArialMT-101\"/>\r\n       <use x=\"127.832031\" xlink:href=\"#ArialMT-102\"/>\r\n       <use x=\"155.615234\" xlink:href=\"#ArialMT-101\"/>\r\n       <use x=\"211.230469\" xlink:href=\"#ArialMT-110\"/>\r\n       <use x=\"266.845703\" xlink:href=\"#ArialMT-115\"/>\r\n       <use x=\"316.845703\" xlink:href=\"#ArialMT-101\"/>\r\n      </g>\r\n     </g>\r\n    </g>\r\n    <g id=\"xtick_4\">\r\n     <g id=\"text_4\">\r\n      <!-- Spec Attack -->\r\n      <defs>\r\n       <path d=\"M 4.5 23 \r\nL 13.421875 23.78125 \r\nQ 14.0625 18.40625 16.375 14.96875 \r\nQ 18.703125 11.53125 23.578125 9.40625 \r\nQ 28.46875 7.28125 34.578125 7.28125 \r\nQ 39.984375 7.28125 44.140625 8.890625 \r\nQ 48.296875 10.5 50.3125 13.296875 \r\nQ 52.34375 16.109375 52.34375 19.4375 \r\nQ 52.34375 22.796875 50.390625 25.3125 \r\nQ 48.4375 27.828125 43.953125 29.546875 \r\nQ 41.0625 30.671875 31.203125 33.03125 \r\nQ 21.34375 35.40625 17.390625 37.5 \r\nQ 12.25 40.1875 9.734375 44.15625 \r\nQ 7.234375 48.140625 7.234375 53.078125 \r\nQ 7.234375 58.5 10.296875 63.203125 \r\nQ 13.375 67.921875 19.28125 70.359375 \r\nQ 25.203125 72.796875 32.421875 72.796875 \r\nQ 40.375 72.796875 46.453125 70.234375 \r\nQ 52.546875 67.671875 55.8125 62.6875 \r\nQ 59.078125 57.71875 59.328125 51.421875 \r\nL 50.25 50.734375 \r\nQ 49.515625 57.515625 45.28125 60.984375 \r\nQ 41.0625 64.453125 32.8125 64.453125 \r\nQ 24.21875 64.453125 20.28125 61.296875 \r\nQ 16.359375 58.15625 16.359375 53.71875 \r\nQ 16.359375 49.859375 19.140625 47.359375 \r\nQ 21.875 44.875 33.421875 42.265625 \r\nQ 44.96875 39.65625 49.265625 37.703125 \r\nQ 55.515625 34.8125 58.484375 30.390625 \r\nQ 61.46875 25.984375 61.46875 20.21875 \r\nQ 61.46875 14.5 58.203125 9.4375 \r\nQ 54.9375 4.390625 48.796875 1.578125 \r\nQ 42.671875 -1.21875 35.015625 -1.21875 \r\nQ 25.296875 -1.21875 18.71875 1.609375 \r\nQ 12.15625 4.4375 8.421875 10.125 \r\nQ 4.6875 15.828125 4.5 23 \r\nz\r\n\" id=\"ArialMT-83\"/>\r\n       <path d=\"M 6.59375 -19.875 \r\nL 6.59375 51.859375 \r\nL 14.59375 51.859375 \r\nL 14.59375 45.125 \r\nQ 17.4375 49.078125 21 51.046875 \r\nQ 24.5625 53.03125 29.640625 53.03125 \r\nQ 36.28125 53.03125 41.359375 49.609375 \r\nQ 46.4375 46.1875 49.015625 39.953125 \r\nQ 51.609375 33.734375 51.609375 26.3125 \r\nQ 51.609375 18.359375 48.75 11.984375 \r\nQ 45.90625 5.609375 40.453125 2.21875 \r\nQ 35.015625 -1.171875 29 -1.171875 \r\nQ 24.609375 -1.171875 21.109375 0.6875 \r\nQ 17.625 2.546875 15.375 5.375 \r\nL 15.375 -19.875 \r\nz\r\nM 14.546875 25.640625 \r\nQ 14.546875 15.625 18.59375 10.84375 \r\nQ 22.65625 6.0625 28.421875 6.0625 \r\nQ 34.28125 6.0625 38.453125 11.015625 \r\nQ 42.625 15.96875 42.625 26.375 \r\nQ 42.625 36.28125 38.546875 41.203125 \r\nQ 34.46875 46.140625 28.8125 46.140625 \r\nQ 23.1875 46.140625 18.859375 40.890625 \r\nQ 14.546875 35.640625 14.546875 25.640625 \r\nz\r\n\" id=\"ArialMT-112\"/>\r\n       <path id=\"ArialMT-32\"/>\r\n      </defs>\r\n      <g style=\"fill:#262626;\" transform=\"translate(281.201422 338.695312)scale(0.1 -0.1)\">\r\n       <use xlink:href=\"#ArialMT-83\"/>\r\n       <use x=\"66.699219\" xlink:href=\"#ArialMT-112\"/>\r\n       <use x=\"122.314453\" xlink:href=\"#ArialMT-101\"/>\r\n       <use x=\"177.929688\" xlink:href=\"#ArialMT-99\"/>\r\n       <use x=\"227.929688\" xlink:href=\"#ArialMT-32\"/>\r\n       <use x=\"255.634766\" xlink:href=\"#ArialMT-65\"/>\r\n       <use x=\"322.333984\" xlink:href=\"#ArialMT-116\"/>\r\n       <use x=\"350.117188\" xlink:href=\"#ArialMT-116\"/>\r\n       <use x=\"377.900391\" xlink:href=\"#ArialMT-97\"/>\r\n       <use x=\"433.515625\" xlink:href=\"#ArialMT-99\"/>\r\n       <use x=\"483.515625\" xlink:href=\"#ArialMT-107\"/>\r\n      </g>\r\n     </g>\r\n    </g>\r\n    <g id=\"xtick_5\">\r\n     <g id=\"text_5\">\r\n      <!-- Spec Defend -->\r\n      <defs>\r\n       <path d=\"M 40.234375 0 \r\nL 40.234375 6.546875 \r\nQ 35.296875 -1.171875 25.734375 -1.171875 \r\nQ 19.53125 -1.171875 14.328125 2.25 \r\nQ 9.125 5.671875 6.265625 11.796875 \r\nQ 3.421875 17.921875 3.421875 25.875 \r\nQ 3.421875 33.640625 6 39.96875 \r\nQ 8.59375 46.296875 13.765625 49.65625 \r\nQ 18.953125 53.03125 25.34375 53.03125 \r\nQ 30.03125 53.03125 33.6875 51.046875 \r\nQ 37.359375 49.078125 39.65625 45.90625 \r\nL 39.65625 71.578125 \r\nL 48.390625 71.578125 \r\nL 48.390625 0 \r\nz\r\nM 12.453125 25.875 \r\nQ 12.453125 15.921875 16.640625 10.984375 \r\nQ 20.84375 6.0625 26.5625 6.0625 \r\nQ 32.328125 6.0625 36.34375 10.765625 \r\nQ 40.375 15.484375 40.375 25.140625 \r\nQ 40.375 35.796875 36.265625 40.765625 \r\nQ 32.171875 45.75 26.171875 45.75 \r\nQ 20.3125 45.75 16.375 40.96875 \r\nQ 12.453125 36.1875 12.453125 25.875 \r\nz\r\n\" id=\"ArialMT-100\"/>\r\n      </defs>\r\n      <g style=\"fill:#262626;\" transform=\"translate(351.436924 338.695312)scale(0.1 -0.1)\">\r\n       <use xlink:href=\"#ArialMT-83\"/>\r\n       <use x=\"66.699219\" xlink:href=\"#ArialMT-112\"/>\r\n       <use x=\"122.314453\" xlink:href=\"#ArialMT-101\"/>\r\n       <use x=\"177.929688\" xlink:href=\"#ArialMT-99\"/>\r\n       <use x=\"227.929688\" xlink:href=\"#ArialMT-32\"/>\r\n       <use x=\"255.712891\" xlink:href=\"#ArialMT-68\"/>\r\n       <use x=\"327.929688\" xlink:href=\"#ArialMT-101\"/>\r\n       <use x=\"383.544922\" xlink:href=\"#ArialMT-102\"/>\r\n       <use x=\"411.328125\" xlink:href=\"#ArialMT-101\"/>\r\n       <use x=\"466.943359\" xlink:href=\"#ArialMT-110\"/>\r\n       <use x=\"522.558594\" xlink:href=\"#ArialMT-100\"/>\r\n      </g>\r\n     </g>\r\n    </g>\r\n    <g id=\"xtick_6\">\r\n     <g id=\"text_6\">\r\n      <!-- Speed -->\r\n      <g style=\"fill:#262626;\" transform=\"translate(438.354456 338.695312)scale(0.1 -0.1)\">\r\n       <use xlink:href=\"#ArialMT-83\"/>\r\n       <use x=\"66.699219\" xlink:href=\"#ArialMT-112\"/>\r\n       <use x=\"122.314453\" xlink:href=\"#ArialMT-101\"/>\r\n       <use x=\"177.929688\" xlink:href=\"#ArialMT-101\"/>\r\n       <use x=\"233.544922\" xlink:href=\"#ArialMT-100\"/>\r\n      </g>\r\n     </g>\r\n    </g>\r\n    <g id=\"text_7\">\r\n     <!-- Attributes -->\r\n     <defs>\r\n      <path d=\"M 6.5 0 \r\nL 6.5 51.859375 \r\nL 14.40625 51.859375 \r\nL 14.40625 44 \r\nQ 17.4375 49.515625 20 51.265625 \r\nQ 22.5625 53.03125 25.640625 53.03125 \r\nQ 30.078125 53.03125 34.671875 50.203125 \r\nL 31.640625 42.046875 \r\nQ 28.421875 43.953125 25.203125 43.953125 \r\nQ 22.3125 43.953125 20.015625 42.21875 \r\nQ 17.71875 40.484375 16.75 37.40625 \r\nQ 15.28125 32.71875 15.28125 27.15625 \r\nL 15.28125 0 \r\nz\r\n\" id=\"ArialMT-114\"/>\r\n      <path d=\"M 6.640625 61.46875 \r\nL 6.640625 71.578125 \r\nL 15.4375 71.578125 \r\nL 15.4375 61.46875 \r\nz\r\nM 6.640625 0 \r\nL 6.640625 51.859375 \r\nL 15.4375 51.859375 \r\nL 15.4375 0 \r\nz\r\n\" id=\"ArialMT-105\"/>\r\n      <path d=\"M 14.703125 0 \r\nL 6.546875 0 \r\nL 6.546875 71.578125 \r\nL 15.328125 71.578125 \r\nL 15.328125 46.046875 \r\nQ 20.90625 53.03125 29.546875 53.03125 \r\nQ 34.328125 53.03125 38.59375 51.09375 \r\nQ 42.875 49.171875 45.625 45.671875 \r\nQ 48.390625 42.1875 49.953125 37.25 \r\nQ 51.515625 32.328125 51.515625 26.703125 \r\nQ 51.515625 13.375 44.921875 6.09375 \r\nQ 38.328125 -1.171875 29.109375 -1.171875 \r\nQ 19.921875 -1.171875 14.703125 6.5 \r\nz\r\nM 14.59375 26.3125 \r\nQ 14.59375 17 17.140625 12.84375 \r\nQ 21.296875 6.0625 28.375 6.0625 \r\nQ 34.125 6.0625 38.328125 11.0625 \r\nQ 42.53125 16.0625 42.53125 25.984375 \r\nQ 42.53125 36.140625 38.5 40.96875 \r\nQ 34.46875 45.796875 28.765625 45.796875 \r\nQ 23 45.796875 18.796875 40.796875 \r\nQ 14.59375 35.796875 14.59375 26.3125 \r\nz\r\n\" id=\"ArialMT-98\"/>\r\n      <path d=\"M 40.578125 0 \r\nL 40.578125 7.625 \r\nQ 34.515625 -1.171875 24.125 -1.171875 \r\nQ 19.53125 -1.171875 15.546875 0.578125 \r\nQ 11.578125 2.34375 9.640625 5 \r\nQ 7.71875 7.671875 6.9375 11.53125 \r\nQ 6.390625 14.109375 6.390625 19.734375 \r\nL 6.390625 51.859375 \r\nL 15.1875 51.859375 \r\nL 15.1875 23.09375 \r\nQ 15.1875 16.21875 15.71875 13.8125 \r\nQ 16.546875 10.359375 19.234375 8.375 \r\nQ 21.921875 6.390625 25.875 6.390625 \r\nQ 29.828125 6.390625 33.296875 8.421875 \r\nQ 36.765625 10.453125 38.203125 13.9375 \r\nQ 39.65625 17.4375 39.65625 24.078125 \r\nL 39.65625 51.859375 \r\nL 48.4375 51.859375 \r\nL 48.4375 0 \r\nz\r\n\" id=\"ArialMT-117\"/>\r\n     </defs>\r\n     <g style=\"fill:#262626;\" transform=\"translate(248.411172 352.556406)scale(0.11 -0.11)\">\r\n      <use xlink:href=\"#ArialMT-65\"/>\r\n      <use x=\"66.699219\" xlink:href=\"#ArialMT-116\"/>\r\n      <use x=\"94.482422\" xlink:href=\"#ArialMT-116\"/>\r\n      <use x=\"122.265625\" xlink:href=\"#ArialMT-114\"/>\r\n      <use x=\"155.566406\" xlink:href=\"#ArialMT-105\"/>\r\n      <use x=\"177.783203\" xlink:href=\"#ArialMT-98\"/>\r\n      <use x=\"233.398438\" xlink:href=\"#ArialMT-117\"/>\r\n      <use x=\"289.013672\" xlink:href=\"#ArialMT-116\"/>\r\n      <use x=\"316.796875\" xlink:href=\"#ArialMT-101\"/>\r\n      <use x=\"372.412109\" xlink:href=\"#ArialMT-115\"/>\r\n     </g>\r\n    </g>\r\n   </g>\r\n   <g id=\"matplotlib.axis_2\">\r\n    <g id=\"ytick_1\">\r\n     <g id=\"text_8\">\r\n      <!-- 0 -->\r\n      <defs>\r\n       <path d=\"M 4.15625 35.296875 \r\nQ 4.15625 48 6.765625 55.734375 \r\nQ 9.375 63.484375 14.515625 67.671875 \r\nQ 19.671875 71.875 27.484375 71.875 \r\nQ 33.25 71.875 37.59375 69.546875 \r\nQ 41.9375 67.234375 44.765625 62.859375 \r\nQ 47.609375 58.5 49.21875 52.21875 \r\nQ 50.828125 45.953125 50.828125 35.296875 \r\nQ 50.828125 22.703125 48.234375 14.96875 \r\nQ 45.65625 7.234375 40.5 3 \r\nQ 35.359375 -1.21875 27.484375 -1.21875 \r\nQ 17.140625 -1.21875 11.234375 6.203125 \r\nQ 4.15625 15.140625 4.15625 35.296875 \r\nz\r\nM 13.1875 35.296875 \r\nQ 13.1875 17.671875 17.3125 11.828125 \r\nQ 21.4375 6 27.484375 6 \r\nQ 33.546875 6 37.671875 11.859375 \r\nQ 41.796875 17.71875 41.796875 35.296875 \r\nQ 41.796875 52.984375 37.671875 58.78125 \r\nQ 33.546875 64.59375 27.390625 64.59375 \r\nQ 21.34375 64.59375 17.71875 59.46875 \r\nQ 13.1875 52.9375 13.1875 35.296875 \r\nz\r\n\" id=\"ArialMT-48\"/>\r\n      </defs>\r\n      <g style=\"fill:#262626;\" transform=\"translate(32.381719 324.494531)scale(0.1 -0.1)\">\r\n       <use xlink:href=\"#ArialMT-48\"/>\r\n      </g>\r\n     </g>\r\n    </g>\r\n    <g id=\"ytick_2\">\r\n     <g id=\"text_9\">\r\n      <!-- 20 -->\r\n      <defs>\r\n       <path d=\"M 50.34375 8.453125 \r\nL 50.34375 0 \r\nL 3.03125 0 \r\nQ 2.9375 3.171875 4.046875 6.109375 \r\nQ 5.859375 10.9375 9.828125 15.625 \r\nQ 13.8125 20.3125 21.34375 26.46875 \r\nQ 33.015625 36.03125 37.109375 41.625 \r\nQ 41.21875 47.21875 41.21875 52.203125 \r\nQ 41.21875 57.421875 37.46875 61 \r\nQ 33.734375 64.59375 27.734375 64.59375 \r\nQ 21.390625 64.59375 17.578125 60.78125 \r\nQ 13.765625 56.984375 13.71875 50.25 \r\nL 4.6875 51.171875 \r\nQ 5.609375 61.28125 11.65625 66.578125 \r\nQ 17.71875 71.875 27.9375 71.875 \r\nQ 38.234375 71.875 44.234375 66.15625 \r\nQ 50.25 60.453125 50.25 52 \r\nQ 50.25 47.703125 48.484375 43.546875 \r\nQ 46.734375 39.40625 42.65625 34.8125 \r\nQ 38.578125 30.21875 29.109375 22.21875 \r\nQ 21.1875 15.578125 18.9375 13.203125 \r\nQ 16.703125 10.84375 15.234375 8.453125 \r\nz\r\n\" id=\"ArialMT-50\"/>\r\n      </defs>\r\n      <g style=\"fill:#262626;\" transform=\"translate(26.820781 288.901674)scale(0.1 -0.1)\">\r\n       <use xlink:href=\"#ArialMT-50\"/>\r\n       <use x=\"55.615234\" xlink:href=\"#ArialMT-48\"/>\r\n      </g>\r\n     </g>\r\n    </g>\r\n    <g id=\"ytick_3\">\r\n     <g id=\"text_10\">\r\n      <!-- 40 -->\r\n      <defs>\r\n       <path d=\"M 32.328125 0 \r\nL 32.328125 17.140625 \r\nL 1.265625 17.140625 \r\nL 1.265625 25.203125 \r\nL 33.9375 71.578125 \r\nL 41.109375 71.578125 \r\nL 41.109375 25.203125 \r\nL 50.78125 25.203125 \r\nL 50.78125 17.140625 \r\nL 41.109375 17.140625 \r\nL 41.109375 0 \r\nz\r\nM 32.328125 25.203125 \r\nL 32.328125 57.46875 \r\nL 9.90625 25.203125 \r\nz\r\n\" id=\"ArialMT-52\"/>\r\n      </defs>\r\n      <g style=\"fill:#262626;\" transform=\"translate(26.820781 253.308817)scale(0.1 -0.1)\">\r\n       <use xlink:href=\"#ArialMT-52\"/>\r\n       <use x=\"55.615234\" xlink:href=\"#ArialMT-48\"/>\r\n      </g>\r\n     </g>\r\n    </g>\r\n    <g id=\"ytick_4\">\r\n     <g id=\"text_11\">\r\n      <!-- 60 -->\r\n      <defs>\r\n       <path d=\"M 49.75 54.046875 \r\nL 41.015625 53.375 \r\nQ 39.84375 58.546875 37.703125 60.890625 \r\nQ 34.125 64.65625 28.90625 64.65625 \r\nQ 24.703125 64.65625 21.53125 62.3125 \r\nQ 17.390625 59.28125 14.984375 53.46875 \r\nQ 12.59375 47.65625 12.5 36.921875 \r\nQ 15.671875 41.75 20.265625 44.09375 \r\nQ 24.859375 46.4375 29.890625 46.4375 \r\nQ 38.671875 46.4375 44.84375 39.96875 \r\nQ 51.03125 33.5 51.03125 23.25 \r\nQ 51.03125 16.5 48.125 10.71875 \r\nQ 45.21875 4.9375 40.140625 1.859375 \r\nQ 35.0625 -1.21875 28.609375 -1.21875 \r\nQ 17.625 -1.21875 10.6875 6.859375 \r\nQ 3.765625 14.9375 3.765625 33.5 \r\nQ 3.765625 54.25 11.421875 63.671875 \r\nQ 18.109375 71.875 29.4375 71.875 \r\nQ 37.890625 71.875 43.28125 67.140625 \r\nQ 48.6875 62.40625 49.75 54.046875 \r\nz\r\nM 13.875 23.1875 \r\nQ 13.875 18.65625 15.796875 14.5 \r\nQ 17.71875 10.359375 21.1875 8.171875 \r\nQ 24.65625 6 28.46875 6 \r\nQ 34.03125 6 38.03125 10.484375 \r\nQ 42.046875 14.984375 42.046875 22.703125 \r\nQ 42.046875 30.125 38.078125 34.390625 \r\nQ 34.125 38.671875 28.125 38.671875 \r\nQ 22.171875 38.671875 18.015625 34.390625 \r\nQ 13.875 30.125 13.875 23.1875 \r\nz\r\n\" id=\"ArialMT-54\"/>\r\n      </defs>\r\n      <g style=\"fill:#262626;\" transform=\"translate(26.820781 217.71596)scale(0.1 -0.1)\">\r\n       <use xlink:href=\"#ArialMT-54\"/>\r\n       <use x=\"55.615234\" xlink:href=\"#ArialMT-48\"/>\r\n      </g>\r\n     </g>\r\n    </g>\r\n    <g id=\"ytick_5\">\r\n     <g id=\"text_12\">\r\n      <!-- 80 -->\r\n      <defs>\r\n       <path d=\"M 17.671875 38.8125 \r\nQ 12.203125 40.828125 9.5625 44.53125 \r\nQ 6.9375 48.25 6.9375 53.421875 \r\nQ 6.9375 61.234375 12.546875 66.546875 \r\nQ 18.171875 71.875 27.484375 71.875 \r\nQ 36.859375 71.875 42.578125 66.421875 \r\nQ 48.296875 60.984375 48.296875 53.171875 \r\nQ 48.296875 48.1875 45.671875 44.5 \r\nQ 43.0625 40.828125 37.75 38.8125 \r\nQ 44.34375 36.671875 47.78125 31.875 \r\nQ 51.21875 27.09375 51.21875 20.453125 \r\nQ 51.21875 11.28125 44.71875 5.03125 \r\nQ 38.234375 -1.21875 27.640625 -1.21875 \r\nQ 17.046875 -1.21875 10.546875 5.046875 \r\nQ 4.046875 11.328125 4.046875 20.703125 \r\nQ 4.046875 27.6875 7.59375 32.390625 \r\nQ 11.140625 37.109375 17.671875 38.8125 \r\nz\r\nM 15.921875 53.71875 \r\nQ 15.921875 48.640625 19.1875 45.40625 \r\nQ 22.46875 42.1875 27.6875 42.1875 \r\nQ 32.765625 42.1875 36.015625 45.375 \r\nQ 39.265625 48.578125 39.265625 53.21875 \r\nQ 39.265625 58.0625 35.90625 61.359375 \r\nQ 32.5625 64.65625 27.59375 64.65625 \r\nQ 22.5625 64.65625 19.234375 61.421875 \r\nQ 15.921875 58.203125 15.921875 53.71875 \r\nz\r\nM 13.09375 20.65625 \r\nQ 13.09375 16.890625 14.875 13.375 \r\nQ 16.65625 9.859375 20.171875 7.921875 \r\nQ 23.6875 6 27.734375 6 \r\nQ 34.03125 6 38.125 10.046875 \r\nQ 42.234375 14.109375 42.234375 20.359375 \r\nQ 42.234375 26.703125 38.015625 30.859375 \r\nQ 33.796875 35.015625 27.4375 35.015625 \r\nQ 21.234375 35.015625 17.15625 30.90625 \r\nQ 13.09375 26.8125 13.09375 20.65625 \r\nz\r\n\" id=\"ArialMT-56\"/>\r\n      </defs>\r\n      <g style=\"fill:#262626;\" transform=\"translate(26.820781 182.123103)scale(0.1 -0.1)\">\r\n       <use xlink:href=\"#ArialMT-56\"/>\r\n       <use x=\"55.615234\" xlink:href=\"#ArialMT-48\"/>\r\n      </g>\r\n     </g>\r\n    </g>\r\n    <g id=\"ytick_6\">\r\n     <g id=\"text_13\">\r\n      <!-- 100 -->\r\n      <defs>\r\n       <path d=\"M 37.25 0 \r\nL 28.46875 0 \r\nL 28.46875 56 \r\nQ 25.296875 52.984375 20.140625 49.953125 \r\nQ 14.984375 46.921875 10.890625 45.40625 \r\nL 10.890625 53.90625 \r\nQ 18.265625 57.375 23.78125 62.296875 \r\nQ 29.296875 67.234375 31.59375 71.875 \r\nL 37.25 71.875 \r\nz\r\n\" id=\"ArialMT-49\"/>\r\n      </defs>\r\n      <g style=\"fill:#262626;\" transform=\"translate(21.259844 146.530246)scale(0.1 -0.1)\">\r\n       <use xlink:href=\"#ArialMT-49\"/>\r\n       <use x=\"55.615234\" xlink:href=\"#ArialMT-48\"/>\r\n       <use x=\"111.230469\" xlink:href=\"#ArialMT-48\"/>\r\n      </g>\r\n     </g>\r\n    </g>\r\n    <g id=\"ytick_7\">\r\n     <g id=\"text_14\">\r\n      <!-- 120 -->\r\n      <g style=\"fill:#262626;\" transform=\"translate(21.259844 110.937388)scale(0.1 -0.1)\">\r\n       <use xlink:href=\"#ArialMT-49\"/>\r\n       <use x=\"55.615234\" xlink:href=\"#ArialMT-50\"/>\r\n       <use x=\"111.230469\" xlink:href=\"#ArialMT-48\"/>\r\n      </g>\r\n     </g>\r\n    </g>\r\n    <g id=\"ytick_8\">\r\n     <g id=\"text_15\">\r\n      <!-- 140 -->\r\n      <g style=\"fill:#262626;\" transform=\"translate(21.259844 75.344531)scale(0.1 -0.1)\">\r\n       <use xlink:href=\"#ArialMT-49\"/>\r\n       <use x=\"55.615234\" xlink:href=\"#ArialMT-52\"/>\r\n       <use x=\"111.230469\" xlink:href=\"#ArialMT-48\"/>\r\n      </g>\r\n     </g>\r\n    </g>\r\n    <g id=\"ytick_9\">\r\n     <g id=\"text_16\">\r\n      <!-- 160 -->\r\n      <g style=\"fill:#262626;\" transform=\"translate(21.259844 39.751674)scale(0.1 -0.1)\">\r\n       <use xlink:href=\"#ArialMT-49\"/>\r\n       <use x=\"55.615234\" xlink:href=\"#ArialMT-54\"/>\r\n       <use x=\"111.230469\" xlink:href=\"#ArialMT-48\"/>\r\n      </g>\r\n     </g>\r\n    </g>\r\n    <g id=\"text_17\">\r\n     <!-- Score -->\r\n     <defs>\r\n      <path d=\"M 3.328125 25.921875 \r\nQ 3.328125 40.328125 11.328125 47.265625 \r\nQ 18.015625 53.03125 27.640625 53.03125 \r\nQ 38.328125 53.03125 45.109375 46.015625 \r\nQ 51.90625 39.015625 51.90625 26.65625 \r\nQ 51.90625 16.65625 48.90625 10.90625 \r\nQ 45.90625 5.171875 40.15625 2 \r\nQ 34.421875 -1.171875 27.640625 -1.171875 \r\nQ 16.75 -1.171875 10.03125 5.8125 \r\nQ 3.328125 12.796875 3.328125 25.921875 \r\nz\r\nM 12.359375 25.921875 \r\nQ 12.359375 15.96875 16.703125 11.015625 \r\nQ 21.046875 6.0625 27.640625 6.0625 \r\nQ 34.1875 6.0625 38.53125 11.03125 \r\nQ 42.875 16.015625 42.875 26.21875 \r\nQ 42.875 35.84375 38.5 40.796875 \r\nQ 34.125 45.75 27.640625 45.75 \r\nQ 21.046875 45.75 16.703125 40.8125 \r\nQ 12.359375 35.890625 12.359375 25.921875 \r\nz\r\n\" id=\"ArialMT-111\"/>\r\n     </defs>\r\n     <g style=\"fill:#262626;\" transform=\"translate(15.073594 185.792656)rotate(-90)scale(0.11 -0.11)\">\r\n      <use xlink:href=\"#ArialMT-83\"/>\r\n      <use x=\"66.699219\" xlink:href=\"#ArialMT-99\"/>\r\n      <use x=\"116.699219\" xlink:href=\"#ArialMT-111\"/>\r\n      <use x=\"172.314453\" xlink:href=\"#ArialMT-114\"/>\r\n      <use x=\"205.615234\" xlink:href=\"#ArialMT-101\"/>\r\n     </g>\r\n    </g>\r\n   </g>\r\n   <g id=\"patch_3\">\r\n    <path clip-path=\"url(#p8bd282ac01)\" d=\"M 68.733565 320.915625 \r\nL 90.473825 320.915625 \r\nL 90.473825 231.933482 \r\nL 68.733565 231.933482 \r\nz\r\n\" style=\"fill:#ff9900;stroke:#ffffff;stroke-linejoin:miter;stroke-width:0.3;\"/>\r\n   </g>\r\n   <g id=\"patch_4\">\r\n    <path clip-path=\"url(#p8bd282ac01)\" d=\"M 141.201098 320.915625 \r\nL 162.941358 320.915625 \r\nL 162.941358 36.172768 \r\nL 141.201098 36.172768 \r\nz\r\n\" style=\"fill:#ff9900;stroke:#ffffff;stroke-linejoin:miter;stroke-width:0.3;\"/>\r\n   </g>\r\n   <g id=\"patch_5\">\r\n    <path clip-path=\"url(#p8bd282ac01)\" d=\"M 213.66863 320.915625 \r\nL 235.40889 320.915625 \r\nL 235.40889 125.154911 \r\nL 213.66863 125.154911 \r\nz\r\n\" style=\"fill:#ff9900;stroke:#ffffff;stroke-linejoin:miter;stroke-width:0.3;\"/>\r\n   </g>\r\n   <g id=\"patch_6\">\r\n    <path clip-path=\"url(#p8bd282ac01)\" d=\"M 286.136163 320.915625 \r\nL 307.876422 320.915625 \r\nL 307.876422 36.172768 \r\nL 286.136163 36.172768 \r\nz\r\n\" style=\"fill:#ff9900;stroke:#ffffff;stroke-linejoin:miter;stroke-width:0.3;\"/>\r\n   </g>\r\n   <g id=\"patch_7\">\r\n    <path clip-path=\"url(#p8bd282ac01)\" d=\"M 358.603695 320.915625 \r\nL 380.343955 320.915625 \r\nL 380.343955 125.154911 \r\nL 358.603695 125.154911 \r\nz\r\n\" style=\"fill:#ff9900;stroke:#ffffff;stroke-linejoin:miter;stroke-width:0.3;\"/>\r\n   </g>\r\n   <g id=\"patch_8\">\r\n    <path clip-path=\"url(#p8bd282ac01)\" d=\"M 431.071228 320.915625 \r\nL 452.811487 320.915625 \r\nL 452.811487 125.154911 \r\nL 431.071228 125.154911 \r\nz\r\n\" style=\"fill:#ff9900;stroke:#ffffff;stroke-linejoin:miter;stroke-width:0.3;\"/>\r\n   </g>\r\n   <g id=\"patch_9\">\r\n    <path clip-path=\"url(#p8bd282ac01)\" d=\"M 90.473825 320.915625 \r\nL 112.214085 320.915625 \r\nL 112.214085 132.273482 \r\nL 90.473825 132.273482 \r\nz\r\n\" style=\"stroke:#ffffff;stroke-linejoin:miter;stroke-width:0.3;\"/>\r\n   </g>\r\n   <g id=\"patch_10\">\r\n    <path clip-path=\"url(#p8bd282ac01)\" d=\"M 162.941358 320.915625 \r\nL 184.681617 320.915625 \r\nL 184.681617 125.154911 \r\nL 162.941358 125.154911 \r\nz\r\n\" style=\"stroke:#ffffff;stroke-linejoin:miter;stroke-width:0.3;\"/>\r\n   </g>\r\n   <g id=\"patch_11\">\r\n    <path clip-path=\"url(#p8bd282ac01)\" d=\"M 235.40889 320.915625 \r\nL 257.14915 320.915625 \r\nL 257.14915 160.747768 \r\nL 235.40889 160.747768 \r\nz\r\n\" style=\"stroke:#ffffff;stroke-linejoin:miter;stroke-width:0.3;\"/>\r\n   </g>\r\n   <g id=\"patch_12\">\r\n    <path clip-path=\"url(#p8bd282ac01)\" d=\"M 307.876422 320.915625 \r\nL 329.616682 320.915625 \r\nL 329.616682 46.850625 \r\nL 307.876422 46.850625 \r\nz\r\n\" style=\"stroke:#ffffff;stroke-linejoin:miter;stroke-width:0.3;\"/>\r\n   </g>\r\n   <g id=\"patch_13\">\r\n    <path clip-path=\"url(#p8bd282ac01)\" d=\"M 380.343955 320.915625 \r\nL 402.084215 320.915625 \r\nL 402.084215 160.747768 \r\nL 380.343955 160.747768 \r\nz\r\n\" style=\"stroke:#ffffff;stroke-linejoin:miter;stroke-width:0.3;\"/>\r\n   </g>\r\n   <g id=\"patch_14\">\r\n    <path clip-path=\"url(#p8bd282ac01)\" d=\"M 452.811487 320.915625 \r\nL 474.551747 320.915625 \r\nL 474.551747 89.562054 \r\nL 452.811487 89.562054 \r\nz\r\n\" style=\"stroke:#ffffff;stroke-linejoin:miter;stroke-width:0.3;\"/>\r\n   </g>\r\n   <g id=\"patch_15\">\r\n    <path d=\"M 48.442656 320.915625 \r\nL 48.442656 21.935625 \r\n\" style=\"fill:none;\"/>\r\n   </g>\r\n   <g id=\"patch_16\">\r\n    <path d=\"M 494.842656 320.915625 \r\nL 494.842656 21.935625 \r\n\" style=\"fill:none;\"/>\r\n   </g>\r\n   <g id=\"patch_17\">\r\n    <path d=\"M 48.442656 320.915625 \r\nL 494.842656 320.915625 \r\n\" style=\"fill:none;\"/>\r\n   </g>\r\n   <g id=\"patch_18\">\r\n    <path d=\"M 48.442656 21.935625 \r\nL 494.842656 21.935625 \r\n\" style=\"fill:none;\"/>\r\n   </g>\r\n   <g id=\"text_18\">\r\n    <!-- Mega Diancie VS Mewtwo -->\r\n    <defs>\r\n     <path d=\"M 7.421875 0 \r\nL 7.421875 71.578125 \r\nL 21.6875 71.578125 \r\nL 38.625 20.90625 \r\nQ 40.96875 13.8125 42.046875 10.296875 \r\nQ 43.265625 14.203125 45.84375 21.78125 \r\nL 62.984375 71.578125 \r\nL 75.734375 71.578125 \r\nL 75.734375 0 \r\nL 66.609375 0 \r\nL 66.609375 59.90625 \r\nL 45.796875 0 \r\nL 37.25 0 \r\nL 16.546875 60.9375 \r\nL 16.546875 0 \r\nz\r\n\" id=\"ArialMT-77\"/>\r\n     <path d=\"M 4.984375 -4.296875 \r\nL 13.53125 -5.5625 \r\nQ 14.0625 -9.515625 16.5 -11.328125 \r\nQ 19.78125 -13.765625 25.4375 -13.765625 \r\nQ 31.546875 -13.765625 34.859375 -11.328125 \r\nQ 38.1875 -8.890625 39.359375 -4.5 \r\nQ 40.046875 -1.8125 39.984375 6.78125 \r\nQ 34.234375 0 25.640625 0 \r\nQ 14.9375 0 9.078125 7.71875 \r\nQ 3.21875 15.4375 3.21875 26.21875 \r\nQ 3.21875 33.640625 5.90625 39.90625 \r\nQ 8.59375 46.1875 13.6875 49.609375 \r\nQ 18.796875 53.03125 25.6875 53.03125 \r\nQ 34.859375 53.03125 40.828125 45.609375 \r\nL 40.828125 51.859375 \r\nL 48.921875 51.859375 \r\nL 48.921875 7.03125 \r\nQ 48.921875 -5.078125 46.453125 -10.125 \r\nQ 44 -15.1875 38.640625 -18.109375 \r\nQ 33.296875 -21.046875 25.484375 -21.046875 \r\nQ 16.21875 -21.046875 10.5 -16.875 \r\nQ 4.78125 -12.703125 4.984375 -4.296875 \r\nz\r\nM 12.25 26.859375 \r\nQ 12.25 16.65625 16.296875 11.96875 \r\nQ 20.359375 7.28125 26.46875 7.28125 \r\nQ 32.515625 7.28125 36.609375 11.9375 \r\nQ 40.71875 16.609375 40.71875 26.5625 \r\nQ 40.71875 36.078125 36.5 40.90625 \r\nQ 32.28125 45.75 26.3125 45.75 \r\nQ 20.453125 45.75 16.34375 40.984375 \r\nQ 12.25 36.234375 12.25 26.859375 \r\nz\r\n\" id=\"ArialMT-103\"/>\r\n     <path d=\"M 28.171875 0 \r\nL 0.4375 71.578125 \r\nL 10.6875 71.578125 \r\nL 29.296875 19.578125 \r\nQ 31.546875 13.328125 33.0625 7.859375 \r\nQ 34.71875 13.71875 36.921875 19.578125 \r\nL 56.25 71.578125 \r\nL 65.921875 71.578125 \r\nL 37.890625 0 \r\nz\r\n\" id=\"ArialMT-86\"/>\r\n     <path d=\"M 16.15625 0 \r\nL 0.296875 51.859375 \r\nL 9.375 51.859375 \r\nL 17.625 21.921875 \r\nL 20.703125 10.796875 \r\nQ 20.90625 11.625 23.390625 21.484375 \r\nL 31.640625 51.859375 \r\nL 40.671875 51.859375 \r\nL 48.4375 21.78125 \r\nL 51.03125 11.859375 \r\nL 54 21.875 \r\nL 62.890625 51.859375 \r\nL 71.4375 51.859375 \r\nL 55.21875 0 \r\nL 46.09375 0 \r\nL 37.84375 31.0625 \r\nL 35.84375 39.890625 \r\nL 25.34375 0 \r\nz\r\n\" id=\"ArialMT-119\"/>\r\n    </defs>\r\n    <g style=\"fill:#262626;\" transform=\"translate(201.617031 15.935625)scale(0.12 -0.12)\">\r\n     <use xlink:href=\"#ArialMT-77\"/>\r\n     <use x=\"83.300781\" xlink:href=\"#ArialMT-101\"/>\r\n     <use x=\"138.916016\" xlink:href=\"#ArialMT-103\"/>\r\n     <use x=\"194.53125\" xlink:href=\"#ArialMT-97\"/>\r\n     <use x=\"250.146484\" xlink:href=\"#ArialMT-32\"/>\r\n     <use x=\"277.929688\" xlink:href=\"#ArialMT-68\"/>\r\n     <use x=\"350.146484\" xlink:href=\"#ArialMT-105\"/>\r\n     <use x=\"372.363281\" xlink:href=\"#ArialMT-97\"/>\r\n     <use x=\"427.978516\" xlink:href=\"#ArialMT-110\"/>\r\n     <use x=\"483.59375\" xlink:href=\"#ArialMT-99\"/>\r\n     <use x=\"533.59375\" xlink:href=\"#ArialMT-105\"/>\r\n     <use x=\"555.810547\" xlink:href=\"#ArialMT-101\"/>\r\n     <use x=\"611.425781\" xlink:href=\"#ArialMT-32\"/>\r\n     <use x=\"639.208984\" xlink:href=\"#ArialMT-86\"/>\r\n     <use x=\"705.908203\" xlink:href=\"#ArialMT-83\"/>\r\n     <use x=\"772.607422\" xlink:href=\"#ArialMT-32\"/>\r\n     <use x=\"800.390625\" xlink:href=\"#ArialMT-77\"/>\r\n     <use x=\"883.691406\" xlink:href=\"#ArialMT-101\"/>\r\n     <use x=\"939.306641\" xlink:href=\"#ArialMT-119\"/>\r\n     <use x=\"1011.523438\" xlink:href=\"#ArialMT-116\"/>\r\n     <use x=\"1039.306641\" xlink:href=\"#ArialMT-119\"/>\r\n     <use x=\"1111.523438\" xlink:href=\"#ArialMT-111\"/>\r\n    </g>\r\n   </g>\r\n   <g id=\"legend_1\">\r\n    <g id=\"patch_19\">\r\n     <path d=\"M 396.703594 38.093437 \r\nL 416.703594 38.093437 \r\nL 416.703594 31.093437 \r\nL 396.703594 31.093437 \r\nz\r\n\" style=\"fill:#ff9900;stroke:#ffffff;stroke-linejoin:miter;stroke-width:0.3;\"/>\r\n    </g>\r\n    <g id=\"text_19\">\r\n     <!-- Mega Diancie -->\r\n     <g style=\"fill:#262626;\" transform=\"translate(424.703594 38.093437)scale(0.1 -0.1)\">\r\n      <use xlink:href=\"#ArialMT-77\"/>\r\n      <use x=\"83.300781\" xlink:href=\"#ArialMT-101\"/>\r\n      <use x=\"138.916016\" xlink:href=\"#ArialMT-103\"/>\r\n      <use x=\"194.53125\" xlink:href=\"#ArialMT-97\"/>\r\n      <use x=\"250.146484\" xlink:href=\"#ArialMT-32\"/>\r\n      <use x=\"277.929688\" xlink:href=\"#ArialMT-68\"/>\r\n      <use x=\"350.146484\" xlink:href=\"#ArialMT-105\"/>\r\n      <use x=\"372.363281\" xlink:href=\"#ArialMT-97\"/>\r\n      <use x=\"427.978516\" xlink:href=\"#ArialMT-110\"/>\r\n      <use x=\"483.59375\" xlink:href=\"#ArialMT-99\"/>\r\n      <use x=\"533.59375\" xlink:href=\"#ArialMT-105\"/>\r\n      <use x=\"555.810547\" xlink:href=\"#ArialMT-101\"/>\r\n     </g>\r\n    </g>\r\n    <g id=\"patch_20\">\r\n     <path d=\"M 396.703594 52.355937 \r\nL 416.703594 52.355937 \r\nL 416.703594 45.355937 \r\nL 396.703594 45.355937 \r\nz\r\n\" style=\"stroke:#ffffff;stroke-linejoin:miter;stroke-width:0.3;\"/>\r\n    </g>\r\n    <g id=\"text_20\">\r\n     <!-- Mewtwo -->\r\n     <g style=\"fill:#262626;\" transform=\"translate(424.703594 52.355937)scale(0.1 -0.1)\">\r\n      <use xlink:href=\"#ArialMT-77\"/>\r\n      <use x=\"83.300781\" xlink:href=\"#ArialMT-101\"/>\r\n      <use x=\"138.916016\" xlink:href=\"#ArialMT-119\"/>\r\n      <use x=\"211.132812\" xlink:href=\"#ArialMT-116\"/>\r\n      <use x=\"238.916016\" xlink:href=\"#ArialMT-119\"/>\r\n      <use x=\"311.132812\" xlink:href=\"#ArialMT-111\"/>\r\n     </g>\r\n    </g>\r\n   </g>\r\n  </g>\r\n </g>\r\n <defs>\r\n  <clipPath id=\"p8bd282ac01\">\r\n   <rect height=\"298.98\" width=\"446.4\" x=\"48.442656\" y=\"21.935625\"/>\r\n  </clipPath>\r\n </defs>\r\n</svg>\r\n",
      "image/png": "[encoded data removed]"
     },
     "metadata": {}
    }
   ],
   "source": [
    "label = ['HP','Attack','Defense','Spec Attack','Spec Defend','Speed']\n",
    "x = np.arange(6)\n",
    "width = 0.3\n",
    "\n",
    "plt.title(f'{pokemon1} VS {pokemon2}')\n",
    "plt.xlabel('Attributes')\n",
    "plt.ylabel('Score')\n",
    "plt.bar(x - width/2, data1[0], width, label=pokemon1, color='#ff9900')\n",
    "plt.bar(x + width/2, data2[0], width, label=pokemon2, color='#000000')\n",
    "plt.xticks(ticks=x, labels=label)\n",
    "\n",
    "plt.legend()"
   ]
  },
  {
   "cell_type": "markdown",
   "metadata": {},
   "source": [
    "## Deployment Model"
   ]
  },
  {
   "cell_type": "code",
   "execution_count": 71,
   "metadata": {},
   "outputs": [],
   "source": [
    "import joblib"
   ]
  },
  {
   "cell_type": "code",
   "execution_count": 72,
   "metadata": {},
   "outputs": [
    {
     "output_type": "execute_result",
     "data": {
      "text/plain": "['model_gbc']"
     },
     "metadata": {},
     "execution_count": 72
    }
   ],
   "source": [
    "joblib.dump(gbcdef, 'model_gbc')"
   ]
  },
  {
   "cell_type": "markdown",
   "metadata": {},
   "source": [
    "## Take a look to poke_app.py and HTML. The produce of our work just like in these picture below, but still in developing for catch pokemon with more than one word."
   ]
  },
  {
   "cell_type": "markdown",
   "metadata": {},
   "source": [
    "# HOME <br>\n",
    "<img src=\"images/home.png\"><br> "
   ]
  },
  {
   "cell_type": "markdown",
   "metadata": {},
   "source": [
    "# RESULT <br>\n",
    "<img src=\"images/result-.png\"><br> "
   ]
  },
  {
   "cell_type": "markdown",
   "metadata": {},
   "source": [
    "# NOT FOUND <br>\n",
    "<img src=\"images/notfound.png\"><br> "
   ]
  },
  {
   "cell_type": "markdown",
   "metadata": {},
   "source": [
    "# ERROR <br>\n",
    "<img src=\"images/error.png\"><br> "
   ]
  },
  {
   "cell_type": "code",
   "execution_count": null,
   "metadata": {},
   "outputs": [],
   "source": []
  }
 ],
 "metadata": {
  "language_info": {
   "codemirror_mode": {
    "name": "ipython",
    "version": 3
   },
   "file_extension": ".py",
   "mimetype": "text/x-python",
   "name": "python",
   "nbconvert_exporter": "python",
   "pygments_lexer": "ipython3",
   "version": "3.7.4-final"
  },
  "orig_nbformat": 2,
  "kernelspec": {
   "name": "python37464bitbaseconda9ac5713aaf5d4281bcc09ff0bf5e12f1",
   "display_name": "Python 3.7.4 64-bit ('base': conda)"
  }
 },
 "nbformat": 4,
 "nbformat_minor": 2
}